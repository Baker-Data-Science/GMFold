{
 "cells": [
  {
   "cell_type": "code",
   "execution_count": 1,
   "metadata": {},
   "outputs": [],
   "source": [
    "import pandas as pd\n",
    "import random\n",
    "import sys\n",
    "sys.path.append('/home/climaco/Aptamers/src')\n",
    "import time\n",
    "from APTamers import  Aptamer_Fold\n",
    "from utils import create_batches\n",
    "from tqdm import tqdm\n",
    "from collections import Counter\n",
    "import numpy as np\n",
    "from forgi.graph.bulge_graph import BulgeGraph\n",
    "from sklearn import preprocessing"
   ]
  },
  {
   "cell_type": "code",
   "execution_count": 4,
   "metadata": {},
   "outputs": [],
   "source": [
    "# Specify the path to your CSV file\n",
    "csv_file_path = '/home/climaco/Aptamers/data/SRTN.csv'\n",
    "pcsv_file_path = '/home/climaco/Aptamers/data/pSRTN.csv'\n",
    "\n",
    "multiply  = 50\n",
    "df =  pd.concat([create_batches(csv_file_path, multiply), create_batches(pcsv_file_path, multiply)], ignore_index=False)\n",
    "df = df.drop_duplicates(subset=['sequence'])\n",
    "df = df.reset_index(drop=True)"
   ]
  },
  {
   "cell_type": "code",
   "execution_count": 5,
   "metadata": {},
   "outputs": [
    {
     "name": "stdout",
     "output_type": "stream",
     "text": [
      "      name                                           sequence  times\n",
      "0  SRTN01​  gggacgacAACCCTGATAACTACATCCGTGTTATCTCGGAATGTgt...      1\n",
      "1  SRTN02​  gggacgacGACCTTGTTGAACATGAATGGTGAAACTCAGCATGCgt...      1\n",
      "2  SRTN03​  gggacgacGACCCTGATTGTGGTATAGTCATAATCTCGGAATGCgt...      1\n",
      "3  SRTN04​  gggacgacTGGTAGGCAGCAGGGGAAGAGACTTGGTGTCTCGTGGg...      1\n",
      "4  SRTN08​  gggacgacTCAGCATGCTCATTAACGAACGTATAATGAGACCTTgt...      1\n",
      "Total computed structures is  1264\n"
     ]
    }
   ],
   "source": [
    "print(df.head())\n",
    "print('Total computed structures is ', len(df))"
   ]
  },
  {
   "cell_type": "code",
   "execution_count": 6,
   "metadata": {},
   "outputs": [
    {
     "name": "stderr",
     "output_type": "stream",
     "text": [
      "100%|██████████| 1264/1264 [00:26<00:00, 47.83it/s]"
     ]
    },
    {
     "name": "stdout",
     "output_type": "stream",
     "text": [
      "26.434534072875977\n"
     ]
    },
    {
     "name": "stderr",
     "output_type": "stream",
     "text": [
      "\n"
     ]
    }
   ],
   "source": [
    "#folding function\n",
    "def fold_structure( strn):\n",
    "    structures_DB = []\n",
    "    structures = []\n",
    "    APT = Aptamer_Fold(l_fix = 4)\n",
    "    APT.fit_fold( sequence=strn,  n_tmpl=4, l_fix=8 , filters = False)\n",
    "    count_bonds  = []\n",
    "    for st in APT.structures_DB:\n",
    "        count_bonds.append(Counter(st)['('])   \n",
    "        max_bonds = np.max(count_bonds)\n",
    "    for i, st in enumerate( APT.structures_DB):\n",
    "        if count_bonds[i] >=  max_bonds :\n",
    "          structures_DB.append(APT.structures_DB[i])\n",
    "          structures.append(APT.structures[i])\n",
    "    return structures_DB, structures\n",
    "\n",
    "structures_DB = []\n",
    "structures = []\n",
    "descriptors = []\n",
    "start = time.time()\n",
    "for i in tqdm(range(len(df['sequence']))):\n",
    "    #computing structures\n",
    "    stra  = fold_structure( df['sequence'][i])\n",
    "    structures_DB.append(stra[0])\n",
    "    structures.append(stra[1])\n",
    "\n",
    "print(time.time()- start) \n",
    "    \n"
   ]
  }
 ],
 "metadata": {
  "kernelspec": {
   "display_name": "aptamer_graph",
   "language": "python",
   "name": "python3"
  },
  "language_info": {
   "codemirror_mode": {
    "name": "ipython",
    "version": 3
   },
   "file_extension": ".py",
   "mimetype": "text/x-python",
   "name": "python",
   "nbconvert_exporter": "python",
   "pygments_lexer": "ipython3",
   "version": "3.9.18"
  }
 },
 "nbformat": 4,
 "nbformat_minor": 2
}
