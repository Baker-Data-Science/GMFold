{
 "cells": [
  {
   "cell_type": "code",
   "execution_count": 1,
   "metadata": {},
   "outputs": [],
   "source": [
    "import pandas as pd\n",
    "import random\n",
    "import sys\n",
    "sys.path.append('/home/climaco/Aptamers/src')\n",
    "import time\n",
    "from APTamers import  Aptamer_Fold\n",
    "from utils import create_batches\n",
    "from tqdm import tqdm"
   ]
  },
  {
   "cell_type": "code",
   "execution_count": 11,
   "metadata": {},
   "outputs": [],
   "source": [
    "# Specify the path to your CSV file\n",
    "csv_file_path = '/home/climaco/Aptamers/SRTN.csv'\n",
    "pcsv_file_path = '/home/climaco/Aptamers/pSRTN.csv'\n",
    "times  = 10\n",
    "df =  pd.concat([create_batches(csv_file_path, times), create_batches(pcsv_file_path, times)], ignore_index=False)\n",
    "df = df.drop_duplicates(subset=['sequence'])\n",
    "df = df.reset_index(drop=True)"
   ]
  },
  {
   "cell_type": "code",
   "execution_count": 10,
   "metadata": {},
   "outputs": [
    {
     "name": "stderr",
     "output_type": "stream",
     "text": [
      "  3%|▎         | 7/273 [00:00<00:07, 34.05it/s]"
     ]
    },
    {
     "name": "stderr",
     "output_type": "stream",
     "text": [
      "100%|██████████| 273/273 [00:05<00:00, 46.36it/s]"
     ]
    },
    {
     "name": "stdout",
     "output_type": "stream",
     "text": [
      "5.8917555809021\n"
     ]
    },
    {
     "name": "stderr",
     "output_type": "stream",
     "text": [
      "\n"
     ]
    }
   ],
   "source": [
    "\n",
    "def fold_structure( strn):\n",
    "    APT = Aptamer_Fold(l_fix = 4)\n",
    "    APT.fit_fold( sequence=strn,  n_tmpl=4, l_fix=8 , filters = False)\n",
    "    return APT.structures_DB, APT.structures\n",
    "\n",
    "structures_DB = []\n",
    "structures = []\n",
    "start = time.time()\n",
    "for i in tqdm(range(len(df['sequence']))):\n",
    "    stra  = fold_structure( df['sequence'][i])\n",
    "    structures_DB.append(stra[0])\n",
    "    structures.append(stra[1])\n",
    "print(time.time()- start) \n",
    "    \n"
   ]
  },
  {
   "cell_type": "code",
   "execution_count": null,
   "metadata": {},
   "outputs": [],
   "source": [
    "def base_pair_distance(structure1, structure2):\n",
    "    bp_set1 = set(structure1.pairs())\n",
    "    bp_set2 = set(structure2.pairs())\n",
    "    common_pairs = bp_set1.intersection(bp_set2)\n",
    "    distance = len(bp_set1.union(bp_set2)) - len(common_pairs)\n",
    "    return distance"
   ]
  },
  {
   "cell_type": "code",
   "execution_count": null,
   "metadata": {},
   "outputs": [],
   "source": []
  },
  {
   "cell_type": "code",
   "execution_count": 5,
   "metadata": {},
   "outputs": [
    {
     "data": {
      "text/plain": [
       "'((((...((((.......)).......................))...))))'"
      ]
     },
     "execution_count": 5,
     "metadata": {},
     "output_type": "execute_result"
    }
   ],
   "source": [
    "    structures_DB[2]"
   ]
  },
  {
   "cell_type": "code",
   "execution_count": 2,
   "metadata": {},
   "outputs": [],
   "source": [
    "\n",
    "\n",
    "def remove_spaces_and_convert_to_upper(input_string, remove_first = 5):\n",
    "    #input_string = input_string.upper()\n",
    "    input_string = input_string.replace(\" \", \"\")\n",
    "    return input_string[remove_first:]\n",
    "\n",
    "\n",
    "def substitute_random_chars(input_string, d = 4 , l= 8):\n",
    "    \n",
    "    '''\n",
    "    d is the number of nucleotides we want to swap in  the string\n",
    "    \n",
    "    l i s the nuber of intial/final nucleatides that are fixed\n",
    "    \n",
    "    '''\n",
    "    \n",
    "    if len(input_string) <= 2:  # If string length is less than or equal to 2, cannot perform substitution\n",
    "        return input_string\n",
    "\n",
    "    # Number of elements to exclude from the start and end\n",
    "    length = len(input_string)\n",
    "    if length <= 2 * l:  # If string length is too small to perform substitution\n",
    "        return input_string\n",
    "\n",
    "    # Selecting characters between the first l and last l elements\n",
    "    substr_start = l\n",
    "    substr_end = length - l-1\n",
    "    substr = input_string[substr_start:substr_end]\n",
    "\n",
    "    # Randomly selecting d characters to substitute\n",
    "    substitute_indices = random.sample(range(len(substr)), min(d, len(substr)))\n",
    "\n",
    "    # Substituting selected characters with random characters from set (A, C, T, G)\n",
    "    substitution_set = ['A', 'C', 'T', 'G']\n",
    "    substr_list = list(substr)\n",
    "    for index in substitute_indices:\n",
    "        substr_list[index] = random.choice(substitution_set)\n",
    "\n",
    "    # Reconstructing the string with substitutions\n",
    "    output_string = input_string[:substr_start] + ''.join(substr_list) + input_string[substr_end:]\n",
    "    return output_string\n",
    "\n",
    "\n",
    "def change_name( input_sequence, seed ):\n",
    "    \n",
    "    return input_sequence + f'_seed_{seed}'\n",
    "\n",
    "def create_batches(csv_file_path, times):\n",
    "    \n",
    "    # Read the CSV file into a pandas DataFrame\n",
    "    df = pd.read_csv(csv_file_path)\n",
    "    df['sequence']= df['sequence'].apply(remove_spaces_and_convert_to_upper)\n",
    "    sd = df\n",
    "\n",
    "    for i in range( times ):\n",
    "        random.seed(i)\n",
    "        cd = df.copy()\n",
    "        cd['sequence']= cd['sequence'].apply(substitute_random_chars)\n",
    "        cd['name'] = cd['name'].apply(change_name, args=(i,))\n",
    "        cd['times'] = 0\n",
    "        sd = pd.concat([sd, cd], ignore_index=True)\n",
    "    \n",
    "    return sd.drop_duplicates(subset=['sequence'])"
   ]
  },
  {
   "cell_type": "code",
   "execution_count": 3,
   "metadata": {},
   "outputs": [],
   "source": []
  }
 ],
 "metadata": {
  "kernelspec": {
   "display_name": "aptamer_graph",
   "language": "python",
   "name": "python3"
  },
  "language_info": {
   "codemirror_mode": {
    "name": "ipython",
    "version": 3
   },
   "file_extension": ".py",
   "mimetype": "text/x-python",
   "name": "python",
   "nbconvert_exporter": "python",
   "pygments_lexer": "ipython3",
   "version": "3.9.18"
  }
 },
 "nbformat": 4,
 "nbformat_minor": 2
}
