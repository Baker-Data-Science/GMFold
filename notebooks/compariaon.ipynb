{
 "cells": [
  {
   "cell_type": "code",
   "execution_count": 1,
   "metadata": {},
   "outputs": [
    {
     "name": "stdout",
     "output_type": "stream",
     "text": [
      "Numeber sequences after merge: 4933\n",
      "Numeber of unique sequences after preprocessing: 4933\n"
     ]
    }
   ],
   "source": [
    "\n",
    "import sys\n",
    "import pandas as pd\n",
    "sys.path.append(r'C:\\Users\\clima\\Desktop\\Aptamers\\my_seqfold')\n",
    "from fold import fold, my_fold, dot_bracket\n",
    "sys.path.append(r'C:\\Users\\clima\\Desktop\\Aptamers\\src')\n",
    "import numpy as np\n",
    "from APTamers import  Aptamer_Fold\n",
    "from tqdm import tqdm\n",
    "import forgi.visual.mplotlib as fvm\n",
    "import forgi\n",
    "from forgi.graph.bulge_graph import BulgeGraph\n",
    "import matplotlib.pyplot as plt\n",
    "from minimization import ty_fold\n",
    "from energy_functions import _hairpin, _stack, _bulge, _internal_loop, _multi_branch, compute_energy\n",
    "import time\n",
    "\n",
    "\n",
    "\n",
    "df = pd.read_csv(r'C:\\Users\\clima\\Desktop\\Aptamers\\data\\preprocessed _files\\UNAfold_merged_all.csv')\n",
    "print('Numeber sequences after merge:',len(df))\n",
    "df = df.drop_duplicates(subset='Sequence')\n",
    "print('Numeber of unique sequences after preprocessing:',len(df))"
   ]
  },
  {
   "cell_type": "code",
   "execution_count": 2,
   "metadata": {},
   "outputs": [],
   "source": [
    "v_cache, min_struct = ty_fold(df['Sequence'][0])"
   ]
  },
  {
   "cell_type": "code",
   "execution_count": 2,
   "metadata": {},
   "outputs": [],
   "source": [
    "APT = Aptamer_Fold(parallel = False)\n",
    "d,l = APT.fit_fold( sequence=df['Sequence'][0] ,  n_tmpl=4, l_fix= 0 , filters = False)"
   ]
  },
  {
   "cell_type": "code",
   "execution_count": 3,
   "metadata": {},
   "outputs": [],
   "source": [
    "test = [ele for ele in d if len(ele)>1]"
   ]
  },
  {
   "cell_type": "code",
   "execution_count": 3,
   "metadata": {},
   "outputs": [
    {
     "data": {
      "text/plain": [
       "[[(13, 17), (12, 18)],\n",
       " [(35, 39), (34, 40), (33, 41)],\n",
       " [(41, 45), (40, 46)],\n",
       " [(15, 19), (14, 20)],\n",
       " [(14, 18), (13, 19), (12, 20), (11, 21)],\n",
       " [(43, 48), (42, 49)],\n",
       " [(20, 26), (19, 27)],\n",
       " [(31, 37), (30, 38), (29, 39)],\n",
       " [(15, 22), (14, 23), (13, 24)],\n",
       " [(41, 48), (40, 49), (39, 50)],\n",
       " [(34, 42), (33, 43)],\n",
       " [(18, 26), (17, 27)],\n",
       " [(13, 22), (12, 23)],\n",
       " [(36, 46), (35, 47)],\n",
       " [(40, 50), (39, 51)],\n",
       " [(30, 41), (29, 42), (28, 43)],\n",
       " [(16, 27), (15, 28)],\n",
       " [(7, 18), (6, 19)],\n",
       " [(29, 40), (28, 41)],\n",
       " [(30, 43), (29, 44)],\n",
       " [(26, 40), (25, 41)],\n",
       " [(4, 18), (3, 19)],\n",
       " [(23, 37), (22, 38), (21, 39)],\n",
       " [(21, 36), (20, 37), (19, 38)],\n",
       " [(15, 30), (14, 31), (13, 32)],\n",
       " [(7, 23), (6, 24)],\n",
       " [(26, 42), (25, 43)],\n",
       " [(13, 30), (12, 31)],\n",
       " [(22, 41), (21, 42)],\n",
       " [(4, 23), (3, 24)],\n",
       " [(18, 37), (17, 38)],\n",
       " [(6, 25), (5, 26)],\n",
       " [(22, 43), (21, 44)],\n",
       " [(3, 25), (2, 26)],\n",
       " [(6, 28), (5, 29)],\n",
       " [(11, 34), (10, 35)],\n",
       " [(10, 34), (9, 35)],\n",
       " [(12, 36), (11, 37)],\n",
       " [(7, 31), (6, 32)],\n",
       " [(9, 34), (8, 35), (7, 36)],\n",
       " [(3, 28), (2, 29)],\n",
       " [(6, 33), (5, 34)],\n",
       " [(4, 31), (3, 32)],\n",
       " [(14, 44), (13, 45)],\n",
       " [(5, 35), (4, 36)],\n",
       " [(3, 33), (2, 34), (1, 35)],\n",
       " [(1, 34), (0, 35)],\n",
       " [(14, 47), (13, 48)],\n",
       " [(7, 44), (6, 45), (5, 46), (4, 47), (3, 48), (2, 49), (1, 50), (0, 51)],\n",
       " [(11, 49), (10, 50), (9, 51)],\n",
       " [(8, 46), (7, 47), (6, 48), (5, 49)],\n",
       " [(10, 49), (9, 50), (8, 51)],\n",
       " [(11, 50), (10, 51)],\n",
       " [(4, 44), (3, 45), (2, 46)],\n",
       " [(9, 49), (8, 50)],\n",
       " [(2, 50), (1, 51)],\n",
       " [(1, 49), (0, 50)]]"
      ]
     },
     "execution_count": 3,
     "metadata": {},
     "output_type": "execute_result"
    }
   ],
   "source": [
    "d"
   ]
  },
  {
   "cell_type": "code",
   "execution_count": 5,
   "metadata": {},
   "outputs": [
    {
     "data": {
      "text/plain": [
       "57"
      ]
     },
     "execution_count": 5,
     "metadata": {},
     "output_type": "execute_result"
    }
   ],
   "source": [
    "len(d)"
   ]
  },
  {
   "cell_type": "code",
   "execution_count": 10,
   "metadata": {},
   "outputs": [
    {
     "data": {
      "text/plain": [
       "-2.0"
      ]
     },
     "execution_count": 10,
     "metadata": {},
     "output_type": "execute_result"
    }
   ],
   "source": [
    "compute_energy(APT.sequence, APT.from_bp_to_DB(  [(35, 39), (34, 40), (14, 18), (13, 19),(12, 20),  (12, 20), (11, 21), ] , APT.sequence))"
   ]
  },
  {
   "cell_type": "code",
   "execution_count": null,
   "metadata": {},
   "outputs": [],
   "source": [
    " [(14, 18), (13, 19), (12, 20), (11, 21)]\n",
    "  [(7, 44), (6, 45), (5, 46), (4, 47), (3, 48), (2, 49), (1, 50), (0, 51)]]"
   ]
  },
  {
   "cell_type": "code",
   "execution_count": 2,
   "metadata": {},
   "outputs": [
    {
     "ename": "TypeError",
     "evalue": "'<' not supported between instances of 'Struct' and 'float'",
     "output_type": "error",
     "traceback": [
      "\u001b[1;31m---------------------------------------------------------------------------\u001b[0m",
      "\u001b[1;31mTypeError\u001b[0m                                 Traceback (most recent call last)",
      "Cell \u001b[1;32mIn[2], line 1\u001b[0m\n\u001b[1;32m----> 1\u001b[0m v_cache, min_struct \u001b[38;5;241m=\u001b[39m \u001b[43mty_fold\u001b[49m\u001b[43m(\u001b[49m\u001b[43mdf\u001b[49m\u001b[43m[\u001b[49m\u001b[38;5;124;43m'\u001b[39;49m\u001b[38;5;124;43mSequence\u001b[39;49m\u001b[38;5;124;43m'\u001b[39;49m\u001b[43m]\u001b[49m\u001b[43m[\u001b[49m\u001b[38;5;241;43m0\u001b[39;49m\u001b[43m]\u001b[49m\u001b[43m)\u001b[49m\n",
      "File \u001b[1;32m~\\Desktop\\Aptamers\\src\\minimization.py:78\u001b[0m, in \u001b[0;36mty_fold\u001b[1;34m(seq, temp)\u001b[0m\n\u001b[0;32m     75\u001b[0m S \u001b[38;5;241m=\u001b[39m APT\u001b[38;5;241m.\u001b[39mdict_Sij\n\u001b[0;32m     76\u001b[0m D \u001b[38;5;241m=\u001b[39m APT\u001b[38;5;241m.\u001b[39mdict_d\n\u001b[1;32m---> 78\u001b[0m v_cache, w_cache,  min_struct\u001b[38;5;241m=\u001b[39m \u001b[43m_cache\u001b[49m\u001b[43m(\u001b[49m\u001b[43mseq\u001b[49m\u001b[43m,\u001b[49m\u001b[43m \u001b[49m\u001b[43mtemp\u001b[49m\u001b[43m,\u001b[49m\u001b[43m \u001b[49m\u001b[43mS\u001b[49m\u001b[43m,\u001b[49m\u001b[43m \u001b[49m\u001b[43mD\u001b[49m\u001b[43m)\u001b[49m\n\u001b[0;32m     79\u001b[0m n \u001b[38;5;241m=\u001b[39m \u001b[38;5;28mlen\u001b[39m(seq)\n\u001b[0;32m     81\u001b[0m \u001b[38;5;66;03m# get the minimum free energy structure out of the cache\u001b[39;00m\n",
      "File \u001b[1;32m~\\Desktop\\Aptamers\\src\\minimization.py:199\u001b[0m, in \u001b[0;36m_cache\u001b[1;34m(seq, temp, S, D)\u001b[0m\n\u001b[0;32m    197\u001b[0m     \u001b[38;5;28;01mfor\u001b[39;00m bp \u001b[38;5;129;01min\u001b[39;00m D[d]:\n\u001b[0;32m    198\u001b[0m         e \u001b[38;5;241m=\u001b[39m  _v(seq, bp[\u001b[38;5;241m0\u001b[39m], bp[\u001b[38;5;241m1\u001b[39m], temp, v_cache, emap, S, revisited)\n\u001b[1;32m--> 199\u001b[0m         \u001b[38;5;28;01mif\u001b[39;00m \u001b[43me\u001b[49m\u001b[43m \u001b[49m\u001b[38;5;241;43m<\u001b[39;49m\u001b[43m \u001b[49m\u001b[43mmin_ene\u001b[49m:\n\u001b[0;32m    200\u001b[0m             min_struct \u001b[38;5;241m=\u001b[39m bp\n\u001b[0;32m    203\u001b[0m \u001b[38;5;28;01mreturn\u001b[39;00m v_cache,  min_struct\n",
      "\u001b[1;31mTypeError\u001b[0m: '<' not supported between instances of 'Struct' and 'float'"
     ]
    }
   ],
   "source": []
  },
  {
   "cell_type": "code",
   "execution_count": 2,
   "metadata": {},
   "outputs": [
    {
     "data": {
      "image/png": "[encoded data removed]",
      "text/plain": [
       "<Figure size 640x480 with 1 Axes>"
      ]
     },
     "metadata": {},
     "output_type": "display_data"
    }
   ],
   "source": [
    "structs = ty_fold(df['Sequence'][0])\n",
    "d_b = dot_bracket( df['Sequence'][0], structs)\n",
    "bg = BulgeGraph.from_dotbracket( d_b  ,  df['Sequence'][0])\n",
    "fvm.plot_rna(bg, text_kwargs={\"fontweight\":\"black\"}, lighten=0.7,backbone_kwargs={\"linewidth\":3})\n",
    "plt.show()"
   ]
  },
  {
   "cell_type": "code",
   "execution_count": 2,
   "metadata": {},
   "outputs": [
    {
     "name": "stderr",
     "output_type": "stream",
     "text": [
      "100it [00:31,  3.22it/s]"
     ]
    },
    {
     "name": "stdout",
     "output_type": "stream",
     "text": [
      "31.01815438270569\n"
     ]
    },
    {
     "name": "stderr",
     "output_type": "stream",
     "text": [
      "\n"
     ]
    }
   ],
   "source": [
    "times = []\n",
    "structures = []\n",
    "for count, seq in  tqdm(enumerate(df['Sequence'])):\n",
    "    start_time = time.time()\n",
    "    structs = fold(seq)\n",
    "    times.append(time.time()-start_time)\n",
    "    structures.append(structs)\n",
    "    if count == 100:\n",
    "        break\n",
    "'''\n",
    "d_b = dot_bracket( df['Sequence'][i], structs)\n",
    "bg = BulgeGraph.from_dotbracket( d_b  ,  df['Sequence'][i])\n",
    "fvm.plot_rna(bg, text_kwargs={\"fontweight\":\"black\"}, lighten=0.7,backbone_kwargs={\"linewidth\":3})\n",
    "plt.show()\n",
    "'''\n",
    "print(sum(times))"
   ]
  },
  {
   "cell_type": "code",
   "execution_count": 5,
   "metadata": {},
   "outputs": [
    {
     "name": "stderr",
     "output_type": "stream",
     "text": [
      "100it [00:31,  3.14it/s]"
     ]
    },
    {
     "name": "stdout",
     "output_type": "stream",
     "text": [
      "31.765604257583618\n"
     ]
    },
    {
     "name": "stderr",
     "output_type": "stream",
     "text": [
      "\n"
     ]
    }
   ],
   "source": [
    "my_times = []\n",
    "my_structures = []\n",
    "for count, seq in  tqdm(enumerate(df['Sequence'])):\n",
    "        start_time = time.time()\n",
    "        structs = my_fold(seq)\n",
    "        my_times.append(time.time()-start_time)\n",
    "        my_structures.append(structs)\n",
    "        if count == 100:\n",
    "            break\n",
    "print(sum(my_times))"
   ]
  },
  {
   "cell_type": "code",
   "execution_count": 3,
   "metadata": {},
   "outputs": [
    {
     "data": {
      "text/plain": [
       "'(1, 2)'"
      ]
     },
     "execution_count": 3,
     "metadata": {},
     "output_type": "execute_result"
    }
   ],
   "source": [
    "'({}, {})'.format(*(1,2))"
   ]
  },
  {
   "cell_type": "code",
   "execution_count": null,
   "metadata": {},
   "outputs": [
    {
     "data": {
      "text/plain": [
       "33.84689688682556"
      ]
     },
     "execution_count": 6,
     "metadata": {},
     "output_type": "execute_result"
    }
   ],
   "source": [
    "np.sum(my_times)"
   ]
  },
  {
   "cell_type": "code",
   "execution_count": null,
   "metadata": {},
   "outputs": [
    {
     "ename": "TypeError",
     "evalue": "unsupported operand type(s) for -: 'list' and 'int'",
     "output_type": "error",
     "traceback": [
      "\u001b[1;31m---------------------------------------------------------------------------\u001b[0m",
      "\u001b[1;31mTypeError\u001b[0m                                 Traceback (most recent call last)",
      "Cell \u001b[1;32mIn[3], line 2\u001b[0m\n\u001b[0;32m      1\u001b[0m i \u001b[38;5;241m=\u001b[39m \u001b[38;5;241m0\u001b[39m\n\u001b[1;32m----> 2\u001b[0m my_structs \u001b[38;5;241m=\u001b[39m \u001b[43mmy_fold\u001b[49m\u001b[43m(\u001b[49m\u001b[43m \u001b[49m\u001b[43mdf\u001b[49m\u001b[43m[\u001b[49m\u001b[38;5;124;43m'\u001b[39;49m\u001b[38;5;124;43mSequence\u001b[39;49m\u001b[38;5;124;43m'\u001b[39;49m\u001b[43m]\u001b[49m\u001b[43m[\u001b[49m\u001b[43mi\u001b[49m\u001b[43m]\u001b[49m\u001b[43m)\u001b[49m\n\u001b[0;32m      3\u001b[0m myd_b \u001b[38;5;241m=\u001b[39m dot_bracket( df[\u001b[38;5;124m'\u001b[39m\u001b[38;5;124mSequence\u001b[39m\u001b[38;5;124m'\u001b[39m][i], my_structs)\n\u001b[0;32m      4\u001b[0m bg \u001b[38;5;241m=\u001b[39m BulgeGraph\u001b[38;5;241m.\u001b[39mfrom_dotbracket( myd_b  ,  df[\u001b[38;5;124m'\u001b[39m\u001b[38;5;124mSequence\u001b[39m\u001b[38;5;124m'\u001b[39m][i])\n",
      "File \u001b[1;32m~\\Desktop\\Aptamers\\my_seqfold\\fold.py:101\u001b[0m, in \u001b[0;36mmy_fold\u001b[1;34m(seq, temp)\u001b[0m\n\u001b[0;32m     98\u001b[0m APT \u001b[38;5;241m=\u001b[39m Aptamer_Fold(parallel \u001b[38;5;241m=\u001b[39m \u001b[38;5;28;01mFalse\u001b[39;00m)\n\u001b[0;32m     99\u001b[0m bonds \u001b[38;5;241m=\u001b[39m APT\u001b[38;5;241m.\u001b[39mfit_fold( sequence\u001b[38;5;241m=\u001b[39mseq ,  n_tmpl\u001b[38;5;241m=\u001b[39m\u001b[38;5;241m4\u001b[39m, l_fix\u001b[38;5;241m=\u001b[39m \u001b[38;5;241m0\u001b[39m , filters \u001b[38;5;241m=\u001b[39m \u001b[38;5;28;01mFalse\u001b[39;00m)\n\u001b[1;32m--> 101\u001b[0m v_cache, w_cache \u001b[38;5;241m=\u001b[39m \u001b[43mmy_cache\u001b[49m\u001b[43m(\u001b[49m\u001b[43mseq\u001b[49m\u001b[43m,\u001b[49m\u001b[43m \u001b[49m\u001b[43mtemp\u001b[49m\u001b[43m,\u001b[49m\u001b[43m  \u001b[49m\u001b[43mbonds\u001b[49m\u001b[43m)\u001b[49m\n\u001b[0;32m    102\u001b[0m n \u001b[38;5;241m=\u001b[39m \u001b[38;5;28mlen\u001b[39m(seq)\n\u001b[0;32m    104\u001b[0m \u001b[38;5;66;03m# get the minimum free energy structure out of the cache\u001b[39;00m\n",
      "File \u001b[1;32m~\\Desktop\\Aptamers\\my_seqfold\\fold.py:213\u001b[0m, in \u001b[0;36mmy_cache\u001b[1;34m(seq, temp, bonds)\u001b[0m\n\u001b[0;32m    210\u001b[0m     w_cache\u001b[38;5;241m.\u001b[39mappend([STRUCT_DEFAULT] \u001b[38;5;241m*\u001b[39m n)\n\u001b[0;32m    212\u001b[0m \u001b[38;5;66;03m# fill the cache\u001b[39;00m\n\u001b[1;32m--> 213\u001b[0m \u001b[43mmy_w\u001b[49m\u001b[43m(\u001b[49m\u001b[43mseq\u001b[49m\u001b[43m,\u001b[49m\u001b[43m \u001b[49m\u001b[38;5;241;43m0\u001b[39;49m\u001b[43m,\u001b[49m\u001b[43m \u001b[49m\u001b[43mn\u001b[49m\u001b[43m \u001b[49m\u001b[38;5;241;43m-\u001b[39;49m\u001b[43m \u001b[49m\u001b[38;5;241;43m1\u001b[39;49m\u001b[43m,\u001b[49m\u001b[43m \u001b[49m\u001b[43mtemp\u001b[49m\u001b[43m,\u001b[49m\u001b[43m \u001b[49m\u001b[43mv_cache\u001b[49m\u001b[43m,\u001b[49m\u001b[43m \u001b[49m\u001b[43mw_cache\u001b[49m\u001b[43m,\u001b[49m\u001b[43m \u001b[49m\u001b[43memap\u001b[49m\u001b[43m,\u001b[49m\u001b[43m  \u001b[49m\u001b[43mbonds\u001b[49m\u001b[43m)\u001b[49m\n\u001b[0;32m    215\u001b[0m \u001b[38;5;28;01mreturn\u001b[39;00m v_cache, w_cache\n",
      "File \u001b[1;32m~\\Desktop\\Aptamers\\my_seqfold\\fold.py:257\u001b[0m, in \u001b[0;36mmy_w\u001b[1;34m(seq, i, j, temp, v_cache, w_cache, emap, bonds)\u001b[0m\n\u001b[0;32m    254\u001b[0m     \u001b[38;5;28;01mreturn\u001b[39;00m w_cache[i][j]\n\u001b[0;32m    256\u001b[0m \u001b[38;5;28;01mif\u001b[39;00m np\u001b[38;5;241m.\u001b[39masarray([i\u001b[38;5;241m+\u001b[39m\u001b[38;5;241m1\u001b[39m,j]) \u001b[38;5;129;01min\u001b[39;00m  bonds:\n\u001b[1;32m--> 257\u001b[0m     w1 \u001b[38;5;241m=\u001b[39m \u001b[43mmy_w\u001b[49m\u001b[43m(\u001b[49m\u001b[43mseq\u001b[49m\u001b[43m,\u001b[49m\u001b[43m \u001b[49m\u001b[43mi\u001b[49m\u001b[43m \u001b[49m\u001b[38;5;241;43m+\u001b[39;49m\u001b[43m \u001b[49m\u001b[38;5;241;43m1\u001b[39;49m\u001b[43m,\u001b[49m\u001b[43m \u001b[49m\u001b[43mj\u001b[49m\u001b[43m,\u001b[49m\u001b[43m \u001b[49m\u001b[43mtemp\u001b[49m\u001b[43m,\u001b[49m\u001b[43m \u001b[49m\u001b[43mv_cache\u001b[49m\u001b[43m,\u001b[49m\u001b[43m \u001b[49m\u001b[43mw_cache\u001b[49m\u001b[43m,\u001b[49m\u001b[43m \u001b[49m\u001b[43memap\u001b[49m\u001b[43m,\u001b[49m\u001b[43m \u001b[49m\u001b[43mbonds\u001b[49m\u001b[43m)\u001b[49m\n\u001b[0;32m    258\u001b[0m \u001b[38;5;28;01melse\u001b[39;00m:\n\u001b[0;32m    259\u001b[0m     w1 \u001b[38;5;241m=\u001b[39m STRUCT_NULL\n",
      "File \u001b[1;32m~\\Desktop\\Aptamers\\my_seqfold\\fold.py:257\u001b[0m, in \u001b[0;36mmy_w\u001b[1;34m(seq, i, j, temp, v_cache, w_cache, emap, bonds)\u001b[0m\n\u001b[0;32m    254\u001b[0m     \u001b[38;5;28;01mreturn\u001b[39;00m w_cache[i][j]\n\u001b[0;32m    256\u001b[0m \u001b[38;5;28;01mif\u001b[39;00m np\u001b[38;5;241m.\u001b[39masarray([i\u001b[38;5;241m+\u001b[39m\u001b[38;5;241m1\u001b[39m,j]) \u001b[38;5;129;01min\u001b[39;00m  bonds:\n\u001b[1;32m--> 257\u001b[0m     w1 \u001b[38;5;241m=\u001b[39m \u001b[43mmy_w\u001b[49m\u001b[43m(\u001b[49m\u001b[43mseq\u001b[49m\u001b[43m,\u001b[49m\u001b[43m \u001b[49m\u001b[43mi\u001b[49m\u001b[43m \u001b[49m\u001b[38;5;241;43m+\u001b[39;49m\u001b[43m \u001b[49m\u001b[38;5;241;43m1\u001b[39;49m\u001b[43m,\u001b[49m\u001b[43m \u001b[49m\u001b[43mj\u001b[49m\u001b[43m,\u001b[49m\u001b[43m \u001b[49m\u001b[43mtemp\u001b[49m\u001b[43m,\u001b[49m\u001b[43m \u001b[49m\u001b[43mv_cache\u001b[49m\u001b[43m,\u001b[49m\u001b[43m \u001b[49m\u001b[43mw_cache\u001b[49m\u001b[43m,\u001b[49m\u001b[43m \u001b[49m\u001b[43memap\u001b[49m\u001b[43m,\u001b[49m\u001b[43m \u001b[49m\u001b[43mbonds\u001b[49m\u001b[43m)\u001b[49m\n\u001b[0;32m    258\u001b[0m \u001b[38;5;28;01melse\u001b[39;00m:\n\u001b[0;32m    259\u001b[0m     w1 \u001b[38;5;241m=\u001b[39m STRUCT_NULL\n",
      "    \u001b[1;31m[... skipping similar frames: my_w at line 257 (44 times)]\u001b[0m\n",
      "File \u001b[1;32m~\\Desktop\\Aptamers\\my_seqfold\\fold.py:257\u001b[0m, in \u001b[0;36mmy_w\u001b[1;34m(seq, i, j, temp, v_cache, w_cache, emap, bonds)\u001b[0m\n\u001b[0;32m    254\u001b[0m     \u001b[38;5;28;01mreturn\u001b[39;00m w_cache[i][j]\n\u001b[0;32m    256\u001b[0m \u001b[38;5;28;01mif\u001b[39;00m np\u001b[38;5;241m.\u001b[39masarray([i\u001b[38;5;241m+\u001b[39m\u001b[38;5;241m1\u001b[39m,j]) \u001b[38;5;129;01min\u001b[39;00m  bonds:\n\u001b[1;32m--> 257\u001b[0m     w1 \u001b[38;5;241m=\u001b[39m \u001b[43mmy_w\u001b[49m\u001b[43m(\u001b[49m\u001b[43mseq\u001b[49m\u001b[43m,\u001b[49m\u001b[43m \u001b[49m\u001b[43mi\u001b[49m\u001b[43m \u001b[49m\u001b[38;5;241;43m+\u001b[39;49m\u001b[43m \u001b[49m\u001b[38;5;241;43m1\u001b[39;49m\u001b[43m,\u001b[49m\u001b[43m \u001b[49m\u001b[43mj\u001b[49m\u001b[43m,\u001b[49m\u001b[43m \u001b[49m\u001b[43mtemp\u001b[49m\u001b[43m,\u001b[49m\u001b[43m \u001b[49m\u001b[43mv_cache\u001b[49m\u001b[43m,\u001b[49m\u001b[43m \u001b[49m\u001b[43mw_cache\u001b[49m\u001b[43m,\u001b[49m\u001b[43m \u001b[49m\u001b[43memap\u001b[49m\u001b[43m,\u001b[49m\u001b[43m \u001b[49m\u001b[43mbonds\u001b[49m\u001b[43m)\u001b[49m\n\u001b[0;32m    258\u001b[0m \u001b[38;5;28;01melse\u001b[39;00m:\n\u001b[0;32m    259\u001b[0m     w1 \u001b[38;5;241m=\u001b[39m STRUCT_NULL\n",
      "File \u001b[1;32m~\\Desktop\\Aptamers\\my_seqfold\\fold.py:261\u001b[0m, in \u001b[0;36mmy_w\u001b[1;34m(seq, i, j, temp, v_cache, w_cache, emap, bonds)\u001b[0m\n\u001b[0;32m    258\u001b[0m \u001b[38;5;28;01melse\u001b[39;00m:\n\u001b[0;32m    259\u001b[0m     w1 \u001b[38;5;241m=\u001b[39m STRUCT_NULL\n\u001b[1;32m--> 261\u001b[0m \u001b[38;5;28;01mif\u001b[39;00m np\u001b[38;5;241m.\u001b[39masarray(\u001b[43m[\u001b[49m\u001b[43mi\u001b[49m\u001b[43m,\u001b[49m\u001b[43mj\u001b[49m\u001b[43m]\u001b[49m\u001b[38;5;241;43m-\u001b[39;49m\u001b[38;5;241;43m1\u001b[39;49m)\u001b[38;5;129;01min\u001b[39;00m  bonds:\n\u001b[0;32m    262\u001b[0m     w2 \u001b[38;5;241m=\u001b[39m my_w(seq, i, j \u001b[38;5;241m-\u001b[39m \u001b[38;5;241m1\u001b[39m, temp, v_cache, w_cache, emap, bonds)\n\u001b[0;32m    263\u001b[0m \u001b[38;5;28;01melse\u001b[39;00m:\n",
      "\u001b[1;31mTypeError\u001b[0m: unsupported operand type(s) for -: 'list' and 'int'"
     ]
    }
   ],
   "source": [
    "i = 0\n",
    "my_structs = my_fold( df['Sequence'][i])\n",
    "myd_b = dot_bracket( df['Sequence'][i], my_structs)\n",
    "bg = BulgeGraph.from_dotbracket( myd_b  ,  df['Sequence'][i])\n",
    "fvm.plot_rna(bg, text_kwargs={\"fontweight\":\"black\"}, lighten=0.7,backbone_kwargs={\"linewidth\":3})\n",
    "plt.show()"
   ]
  }
 ],
 "metadata": {
  "kernelspec": {
   "display_name": "aptamers_fold",
   "language": "python",
   "name": "python3"
  },
  "language_info": {
   "codemirror_mode": {
    "name": "ipython",
    "version": 3
   },
   "file_extension": ".py",
   "mimetype": "text/x-python",
   "name": "python",
   "nbconvert_exporter": "python",
   "pygments_lexer": "ipython3",
   "version": "3.12.3"
  }
 },
 "nbformat": 4,
 "nbformat_minor": 2
}
