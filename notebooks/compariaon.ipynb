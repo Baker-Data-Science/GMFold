{
 "cells": [
  {
   "cell_type": "code",
   "execution_count": 1,
   "metadata": {},
   "outputs": [],
   "source": [
    "import pandas as pd\n",
    "import re\n",
    "from scipy.signal import correlate\n",
    "import numpy as np\n",
    "import sys\n",
    "sys.path.append(r'C:\\Users\\clima\\Desktop\\Aptamers\\src')\n",
    "import time\n",
    "from sklearn.manifold import TSNE\n",
    "from sklearn.cluster import OPTICS\n",
    "import os\n",
    "from APTamers import  Aptamer_Fold\n",
    "from tqdm import tqdm\n",
    "from utils import check_char, check_if_string, check_structure, check_empty_or_short, find_substrings,  attach_stems\n",
    "import pandas as pd\n",
    "import forgi.visual.mplotlib as fvm\n",
    "import forgi\n",
    "import RNA\n",
    "from forgi.graph.bulge_graph import BulgeGraph\n",
    "import matplotlib.pyplot as plt\n",
    "from sklearn.manifold import LocallyLinearEmbedding\n",
    "from sklearn.cluster import SpectralClustering\n",
    "from seqfold import fold, dg, dg_cache, dot_bracket\n",
    "\n",
    "\n",
    "from typing import Any, Dict, Tuple\n",
    "import sys\n",
    "import os\n",
    "\n",
    "# Example path you want to add\n",
    "new_path = r'../src/'\n",
    "# Check if the path already exists to avoid duplication\n",
    "if new_path not in sys.path:\n",
    "    sys.path.append(new_path)\n",
    "    \n",
    "from Types import Comp, MultiBranch, BpEnergy, LoopEnergy, Energies\n",
    "from dna import DNA_ENERGIES\n",
    "from substructures import substructure_ID\n",
    "from energy_functions import _hairpin, _stack, _bulge, _internal_loop, _multi_branch, compute_energy\n",
    "emap = DNA_ENERGIES"
   ]
  },
  {
   "cell_type": "code",
   "execution_count": 2,
   "metadata": {},
   "outputs": [
    {
     "name": "stdout",
     "output_type": "stream",
     "text": [
      "Numeber sequences after merge: 4933\n",
      "Numeber of unique sequences after preprocessing: 4933\n"
     ]
    }
   ],
   "source": [
    "df = pd.read_csv(r'C:\\Users\\clima\\Desktop\\Aptamers\\data\\preprocessed _files\\UNAfold_merged_all.csv')\n",
    "print('Numeber sequences after merge:',len(df))\n",
    "df = df.drop_duplicates(subset='Sequence')\n",
    "print('Numeber of unique sequences after preprocessing:',len(df))\n"
   ]
  },
  {
   "cell_type": "code",
   "execution_count": 3,
   "metadata": {},
   "outputs": [
    {
     "name": "stdout",
     "output_type": "stream",
     "text": [
      "-9.0 -9.0\n"
     ]
    }
   ],
   "source": [
    "i = 0\n",
    "structs = fold( df['Sequence'][i])\n",
    "# -13.4, same as dg()\n",
    "# `dot_bracket` returns a dot_bracket representation of the folding\n",
    "d_b = dot_bracket( df['Sequence'][i], structs)\n",
    "e = compute_energy(df['Sequence'][i], d_b )\n",
    "   \n",
    "print(round(sum(s.e for s in structs),5), round(e,5))"
   ]
  },
  {
   "cell_type": "code",
   "execution_count": 4,
   "metadata": {},
   "outputs": [],
   "source": [
    "\n",
    "APT = Aptamer_Fold(parallel = False)\n",
    "d = APT.fit_fold( sequence=df['Sequence'][0] ,  n_tmpl=4, l_fix= 0 , filters = False)"
   ]
  },
  {
   "cell_type": "code",
   "execution_count": 5,
   "metadata": {},
   "outputs": [
    {
     "data": {
      "text/plain": [
       "['(((.((((....(((...))).((.............)).....)))).)))']"
      ]
     },
     "execution_count": 5,
     "metadata": {},
     "output_type": "execute_result"
    }
   ],
   "source": [
    "d"
   ]
  },
  {
   "cell_type": "code",
   "execution_count": 13,
   "metadata": {},
   "outputs": [
    {
     "data": {
      "text/plain": [
       "'GGGACGACGGGGCACATTGTGCTGTTCATCTGTTCCGCAGGAGAGTCGTCCC'"
      ]
     },
     "execution_count": 13,
     "metadata": {},
     "output_type": "execute_result"
    }
   ],
   "source": [
    "df['Sequence'][0]"
   ]
  },
  {
   "cell_type": "code",
   "execution_count": 10,
   "metadata": {},
   "outputs": [
    {
     "data": {
      "text/plain": [
       "'(((.((((....(((...))).((.............)).....)))).)))'"
      ]
     },
     "execution_count": 10,
     "metadata": {},
     "output_type": "execute_result"
    }
   ],
   "source": [
    "d"
   ]
  },
  {
   "cell_type": "code",
   "execution_count": 6,
   "metadata": {},
   "outputs": [
    {
     "data": {
      "text/plain": [
       "'((((((((....(((...))).............((...))...))))))))'"
      ]
     },
     "execution_count": 6,
     "metadata": {},
     "output_type": "execute_result"
    }
   ],
   "source": [
    "d_b"
   ]
  },
  {
   "cell_type": "code",
   "execution_count": 7,
   "metadata": {},
   "outputs": [
    {
     "name": "stdout",
     "output_type": "stream",
     "text": [
      "(0, 51)\n",
      "(1, 50)\n",
      "(2, 49)\n",
      "(3, 48)\n",
      "(4, 47)\n",
      "(5, 46)\n",
      "(6, 45)\n",
      "(7, 44)\n",
      "(12, 20)\n",
      "(13, 19)\n",
      "(14, 18)\n",
      "(34, 40)\n",
      "(35, 39)\n"
     ]
    }
   ],
   "source": [
    "for s in structs:\n",
    "        if len(s.ij) == 1:\n",
    "            print( s.ij[0])"
   ]
  },
  {
   "cell_type": "code",
   "execution_count": 13,
   "metadata": {},
   "outputs": [
    {
     "data": {
      "text/plain": [
       "[(0, 35), (1, 34)]"
      ]
     },
     "execution_count": 13,
     "metadata": {},
     "output_type": "execute_result"
    }
   ],
   "source": [
    "APT.motifs[0]"
   ]
  },
  {
   "cell_type": "code",
   "execution_count": 7,
   "metadata": {},
   "outputs": [
    {
     "data": {
      "text/plain": [
       "[[0, 6, 17, 21, 26, 31, 39, 42, 45, 53, 62, 68],\n",
       " [1, 6, 16, 23, 39, 46, 51, 65, 70, 72],\n",
       " [2, 4, 10, 15, 17, 21, 26, 30, 39, 42, 45, 53, 62, 63],\n",
       " [3, 8, 17, 21, 26, 31, 39, 42, 45, 53, 62, 63],\n",
       " [5, 11, 18, 28, 30, 39, 46, 51, 65, 70, 79],\n",
       " [7, 0, 17, 21, 26, 31, 39, 42, 45, 62, 63],\n",
       " [9, 0, 14, 18, 31, 39, 42, 45, 53, 62, 68],\n",
       " [12, 0, 18, 29, 34, 39, 42, 45, 53, 67, 70],\n",
       " [13, 0, 18, 29, 34, 39, 42, 45, 53, 62, 68],\n",
       " [19, 0, 6, 29, 34, 39, 42, 45, 62],\n",
       " [20, 1, 6, 28, 39, 42, 45, 53, 62, 68],\n",
       " [22, 0, 6, 27, 29, 35, 39, 42, 45, 53, 62, 68],\n",
       " [24, 0, 6, 17, 31, 39, 42, 45, 53, 67, 70],\n",
       " [25, 0, 6, 17, 31, 39, 42, 45, 53, 62, 68],\n",
       " [32, 0, 6, 17, 21, 26, 34, 39, 42, 45, 53, 62, 68],\n",
       " [33, 1, 6, 17, 21, 26, 39, 42, 45, 53, 62, 68],\n",
       " [36, 1, 6, 17, 21, 26, 41, 50, 59, 62, 65],\n",
       " [37, 0, 6, 17, 21, 26, 35, 41, 50, 59, 62, 65],\n",
       " [38, 0, 6, 17, 21, 26, 41, 50, 59, 62, 65, 79],\n",
       " [40, 0, 6, 17, 21, 26, 31, 45, 53, 59, 68],\n",
       " [43, 0, 6, 17, 21, 26, 31, 50, 55, 65],\n",
       " [44, 0, 6, 17, 21, 26, 31, 50, 55, 60],\n",
       " [47, 0, 6, 17, 21, 26, 31, 39, 52, 55, 65],\n",
       " [48, 0, 6, 17, 23, 31, 39, 53, 62, 68],\n",
       " [49, 0, 6, 19, 31, 39, 55, 77],\n",
       " [54, 0, 7, 17, 21, 26, 31, 39, 42, 51, 70],\n",
       " [56, 0, 7, 17, 21, 26, 31, 40, 46, 51],\n",
       " [57, 0, 6, 17, 21, 26, 31, 41, 51, 58, 65],\n",
       " [61, 0, 6, 17, 21, 31, 40, 45, 53, 67],\n",
       " [64, 0, 7, 17, 21, 26, 31, 39, 42, 45, 62],\n",
       " [66, 0, 6, 17, 21, 26, 31, 39, 42, 45, 62, 68],\n",
       " [69, 0, 6, 17, 21, 31, 39, 42, 45, 53, 62],\n",
       " [71, 1, 6, 16, 23, 39, 46, 51, 66, 70],\n",
       " [73, 1, 6, 17, 21, 26, 39, 42, 45, 53, 62, 68],\n",
       " [74, 1, 6, 19, 39, 42, 45, 62, 71],\n",
       " [75, 0, 6, 17, 21, 26, 39, 42, 45, 53, 62, 68],\n",
       " [76, 0, 6, 17, 21, 26, 39, 42, 45, 53, 62, 68],\n",
       " [78, 0, 6, 17, 21, 26, 32, 39, 42, 45, 53, 62]]"
      ]
     },
     "execution_count": 7,
     "metadata": {},
     "output_type": "execute_result"
    }
   ],
   "source": [
    "APT.maximal_sets"
   ]
  },
  {
   "cell_type": "code",
   "execution_count": 12,
   "metadata": {},
   "outputs": [
    {
     "name": "stdout",
     "output_type": "stream",
     "text": [
      "2\n"
     ]
    }
   ],
   "source": [
    "for count, i in enumerate(APT.maximal_sets):\n",
    "    if 2 in i:\n",
    "        print(count)"
   ]
  },
  {
   "cell_type": "code",
   "execution_count": 11,
   "metadata": {},
   "outputs": [
    {
     "name": "stdout",
     "output_type": "stream",
     "text": [
      "True\n",
      "True\n",
      "True\n",
      "True\n",
      "True\n",
      "True\n",
      "True\n",
      "False\n",
      "True\n",
      "True\n",
      "True\n",
      "True\n",
      "True\n",
      "False\n"
     ]
    }
   ],
   "source": [
    "for i in APT.maximal_sets[2]:\n",
    "    print(APT.compatible(APT.motifs[73], APT.motifs[i]))"
   ]
  },
  {
   "cell_type": "code",
   "execution_count": 34,
   "metadata": {},
   "outputs": [
    {
     "data": {
      "text/plain": [
       "73"
      ]
     },
     "execution_count": 34,
     "metadata": {},
     "output_type": "execute_result"
    }
   ],
   "source": [
    "APT.motifs.index([(34,40), (35, 39)])"
   ]
  },
  {
   "cell_type": "code",
   "execution_count": null,
   "metadata": {},
   "outputs": [],
   "source": [
    "s"
   ]
  },
  {
   "cell_type": "code",
   "execution_count": 6,
   "metadata": {},
   "outputs": [
    {
     "name": "stderr",
     "output_type": "stream",
     "text": [
      "0it [00:00, ?it/s]"
     ]
    },
    {
     "name": "stdout",
     "output_type": "stream",
     "text": [
      "[0, 6, 23]\n",
      "[1, 6, 23]\n",
      "[2, 4, 10, 15, 17, 21, 26, 30, 39, 41]\n",
      "[3, 8, 18, 39, 41]\n",
      "[5, 11]\n",
      "[7, 0, 18, 39, 41]\n",
      "[9, 1, 14, 18, 39, 41]\n",
      "[12, 0, 23]\n",
      "[13, 0, 18, 39, 41]\n",
      "[16, 1, 9, 23]\n",
      "[19, 0, 13, 39, 41]\n",
      "[20, 1, 9, 14, 39, 41]\n",
      "[22, 2, 27, 29, 33, 39, 41]\n",
      "[24, 0, 6, 39, 41]\n",
      "[25, 0, 39, 41]\n",
      "[28, 1, 9, 14, 30, 39, 41]\n",
      "[31, 36, 41]\n",
      "[32, 34, 39, 41]\n",
      "[35, 37, 41]\n",
      "[38, 41]\n",
      "[40, 1, 9, 14, 44, 48]\n",
      "[42, 0, 6]\n",
      "[43, 0, 48]\n",
      "[45, 0, 49, 51]\n",
      "[46, 1, 15, 17, 50]\n",
      "[47, 1, 50]\n",
      "[52, 1, 9, 14, 53]\n",
      "[54, 1, 9, 14, 55]\n",
      "[56, 1, 9, 14, 59]\n",
      "[57, 1, 9, 14, 64, 67]\n",
      "[58, 1, 9, 60, 64, 67]\n",
      "[61, 1, 9, 14, 62, 67]\n",
      "[63, 1, 9, 14, 65]\n",
      "[66, 1, 9, 68]\n",
      "[69, 1, 9, 14]\n"
     ]
    },
    {
     "name": "stderr",
     "output_type": "stream",
     "text": [
      "1it [00:02,  2.50s/it]"
     ]
    },
    {
     "name": "stdout",
     "output_type": "stream",
     "text": [
      "[70, 1]\n",
      "[71, 73]\n",
      "[72, 74]\n",
      "[0]\n",
      "[1]\n",
      "[2, 10, 26, 30]\n",
      "[3, 10, 26, 30]\n",
      "[4, 8, 14, 18, 20, 24, 28, 31, 33, 39, 41, 42, 47]\n"
     ]
    },
    {
     "name": "stderr",
     "output_type": "stream",
     "text": [
      "1it [00:04,  4.34s/it]\n"
     ]
    },
    {
     "ename": "KeyboardInterrupt",
     "evalue": "",
     "output_type": "error",
     "traceback": [
      "\u001b[1;31m---------------------------------------------------------------------------\u001b[0m",
      "\u001b[1;31mKeyboardInterrupt\u001b[0m                         Traceback (most recent call last)",
      "Cell \u001b[1;32mIn[6], line 6\u001b[0m\n\u001b[0;32m      4\u001b[0m APT \u001b[38;5;241m=\u001b[39m Aptamer_Fold(parallel \u001b[38;5;241m=\u001b[39m \u001b[38;5;28;01mFalse\u001b[39;00m)\n\u001b[0;32m      5\u001b[0m start_time \u001b[38;5;241m=\u001b[39m time\u001b[38;5;241m.\u001b[39mtime()\n\u001b[1;32m----> 6\u001b[0m d \u001b[38;5;241m=\u001b[39m \u001b[43mAPT\u001b[49m\u001b[38;5;241;43m.\u001b[39;49m\u001b[43mfit_fold\u001b[49m\u001b[43m(\u001b[49m\u001b[43m \u001b[49m\u001b[43msequence\u001b[49m\u001b[38;5;241;43m=\u001b[39;49m\u001b[43mdf\u001b[49m\u001b[43m[\u001b[49m\u001b[38;5;124;43m'\u001b[39;49m\u001b[38;5;124;43mSequence\u001b[39;49m\u001b[38;5;124;43m'\u001b[39;49m\u001b[43m]\u001b[49m\u001b[43m[\u001b[49m\u001b[43mi\u001b[49m\u001b[43m]\u001b[49m\u001b[43m \u001b[49m\u001b[43m,\u001b[49m\u001b[43m  \u001b[49m\u001b[43mn_tmpl\u001b[49m\u001b[38;5;241;43m=\u001b[39;49m\u001b[38;5;241;43m4\u001b[39;49m\u001b[43m,\u001b[49m\u001b[43m \u001b[49m\u001b[43ml_fix\u001b[49m\u001b[38;5;241;43m=\u001b[39;49m\u001b[43m \u001b[49m\u001b[38;5;241;43m0\u001b[39;49m\u001b[43m \u001b[49m\u001b[43m,\u001b[49m\u001b[43m \u001b[49m\u001b[43mfilters\u001b[49m\u001b[43m \u001b[49m\u001b[38;5;241;43m=\u001b[39;49m\u001b[43m \u001b[49m\u001b[38;5;28;43;01mFalse\u001b[39;49;00m\u001b[43m)\u001b[49m\n\u001b[0;32m      7\u001b[0m times_a\u001b[38;5;241m.\u001b[39mappend(time\u001b[38;5;241m.\u001b[39mtime()\u001b[38;5;241m-\u001b[39m start_time)\n",
      "File \u001b[1;32m~\\Desktop\\Aptamers\\src\\APTamers.py:406\u001b[0m, in \u001b[0;36mAptamer_Fold.fit_fold\u001b[1;34m(self, sequence, n_tmpl, l_fix, return_min, filters)\u001b[0m\n\u001b[0;32m    403\u001b[0m             stem\u001b[38;5;241m.\u001b[39mappend((i, \u001b[38;5;28mself\u001b[39m\u001b[38;5;241m.\u001b[39mn_wrld\u001b[38;5;241m-\u001b[39m\u001b[38;5;241m1\u001b[39m\u001b[38;5;241m-\u001b[39mi))\n\u001b[0;32m    404\u001b[0m         \u001b[38;5;28mself\u001b[39m\u001b[38;5;241m.\u001b[39mmotifs\u001b[38;5;241m.\u001b[39mappend(stem)\n\u001b[1;32m--> 406\u001b[0m \u001b[38;5;28;43mself\u001b[39;49m\u001b[38;5;241;43m.\u001b[39;49m\u001b[43mfind_largest_compatible_sets\u001b[49m\u001b[43m(\u001b[49m\u001b[38;5;28;43mself\u001b[39;49m\u001b[38;5;241;43m.\u001b[39;49m\u001b[43mmotifs\u001b[49m\u001b[43m)\u001b[49m\n\u001b[0;32m    407\u001b[0m \u001b[38;5;66;03m#self.structures_DB = self.from_motifs_to_DB(self.structures, self.sequence) \u001b[39;00m\n\u001b[0;32m    408\u001b[0m \u001b[38;5;66;03m#print(np.argmin(self.energies))\u001b[39;00m\n\u001b[0;32m    409\u001b[0m \u001b[38;5;28mself\u001b[39m\u001b[38;5;241m.\u001b[39mmin_energy_structure_DB \u001b[38;5;241m=\u001b[39m \u001b[38;5;28mself\u001b[39m\u001b[38;5;241m.\u001b[39mmin_energy_structures[np\u001b[38;5;241m.\u001b[39margmin(\u001b[38;5;28mself\u001b[39m\u001b[38;5;241m.\u001b[39menergies)]\n",
      "File \u001b[1;32m~\\Desktop\\Aptamers\\src\\APTamers.py:306\u001b[0m, in \u001b[0;36mAptamer_Fold.find_largest_compatible_sets\u001b[1;34m(self, motifs)\u001b[0m\n\u001b[0;32m    304\u001b[0m structure_i\u001b[38;5;241m=\u001b[39m \u001b[38;5;28mself\u001b[39m\u001b[38;5;241m.\u001b[39mfrom_motifs_to_DB([combo], \u001b[38;5;28mself\u001b[39m\u001b[38;5;241m.\u001b[39msequence)\n\u001b[0;32m    305\u001b[0m \u001b[38;5;28;01mtry\u001b[39;00m:\n\u001b[1;32m--> 306\u001b[0m     e_i \u001b[38;5;241m=\u001b[39m  \u001b[43mcompute_energy\u001b[49m\u001b[43m(\u001b[49m\u001b[38;5;28;43mself\u001b[39;49m\u001b[38;5;241;43m.\u001b[39;49m\u001b[43msequence\u001b[49m\u001b[43m,\u001b[49m\u001b[43m \u001b[49m\u001b[43mstructure_i\u001b[49m\u001b[43m \u001b[49m\u001b[43m)\u001b[49m\n\u001b[0;32m    307\u001b[0m \u001b[38;5;28;01mexcept\u001b[39;00m \u001b[38;5;167;01mException\u001b[39;00m:\n\u001b[0;32m    308\u001b[0m     e_i \u001b[38;5;241m=\u001b[39m np\u001b[38;5;241m.\u001b[39minf\n",
      "File \u001b[1;32m~\\Desktop\\Aptamers\\src\\energy_functions.py:409\u001b[0m, in \u001b[0;36mcompute_energy\u001b[1;34m(string, seq, temp, emap)\u001b[0m\n\u001b[0;32m    407\u001b[0m \u001b[38;5;28;01mdef\u001b[39;00m \u001b[38;5;21mcompute_energy\u001b[39m(string : \u001b[38;5;28mstr\u001b[39m, seq: \u001b[38;5;28mstr\u001b[39m, temp: \u001b[38;5;28mfloat\u001b[39m\u001b[38;5;241m=\u001b[39m \u001b[38;5;241m37.0\u001b[39m, emap: Energies \u001b[38;5;241m=\u001b[39m DNA_ENERGIES) \u001b[38;5;241m-\u001b[39m\u001b[38;5;241m>\u001b[39m \u001b[38;5;28mfloat\u001b[39m:\n\u001b[1;32m--> 409\u001b[0m     dct \u001b[38;5;241m=\u001b[39m \u001b[43msubstructure_ID\u001b[49m\u001b[43m(\u001b[49m\u001b[43mseq\u001b[49m\u001b[43m)\u001b[49m\n\u001b[0;32m    410\u001b[0m     temp \u001b[38;5;241m=\u001b[39m temp \u001b[38;5;241m+\u001b[39m \u001b[38;5;241m273.15\u001b[39m\n\u001b[0;32m    411\u001b[0m     energy \u001b[38;5;241m=\u001b[39m \u001b[38;5;241m0.0\u001b[39m\n",
      "File \u001b[1;32m~\\Desktop\\Aptamers\\src\\substructures.py:23\u001b[0m, in \u001b[0;36msubstructure_ID\u001b[1;34m(string)\u001b[0m\n\u001b[0;32m     21\u001b[0m \u001b[38;5;66;03m# mask with 1 when closed or open parantesis\u001b[39;00m\n\u001b[0;32m     22\u001b[0m mask \u001b[38;5;241m=\u001b[39m np\u001b[38;5;241m.\u001b[39misin( np\u001b[38;5;241m.\u001b[39marray(\u001b[38;5;28mlist\u001b[39m(string)), [\u001b[38;5;124m'\u001b[39m\u001b[38;5;124m(\u001b[39m\u001b[38;5;124m'\u001b[39m, \u001b[38;5;124m'\u001b[39m\u001b[38;5;124m)\u001b[39m\u001b[38;5;124m'\u001b[39m])\n\u001b[1;32m---> 23\u001b[0m p \u001b[38;5;241m=\u001b[39m \u001b[43mmask\u001b[49m\u001b[38;5;241;43m.\u001b[39;49m\u001b[43mastype\u001b[49m\u001b[43m(\u001b[49m\u001b[38;5;28;43mint\u001b[39;49m\u001b[43m)\u001b[49m\n\u001b[0;32m     25\u001b[0m dct \u001b[38;5;241m=\u001b[39m {\u001b[38;5;124m'\u001b[39m\u001b[38;5;124mhairpins\u001b[39m\u001b[38;5;124m'\u001b[39m : [],\n\u001b[0;32m     26\u001b[0m \u001b[38;5;124m'\u001b[39m\u001b[38;5;124mmulti-branches\u001b[39m\u001b[38;5;124m'\u001b[39m : [],\n\u001b[0;32m     27\u001b[0m \u001b[38;5;124m'\u001b[39m\u001b[38;5;124mstacks\u001b[39m\u001b[38;5;124m'\u001b[39m : [],\n\u001b[0;32m     28\u001b[0m \u001b[38;5;124m'\u001b[39m\u001b[38;5;124mleft_bulges\u001b[39m\u001b[38;5;124m'\u001b[39m : [],\n\u001b[0;32m     29\u001b[0m \u001b[38;5;124m'\u001b[39m\u001b[38;5;124mright_bulges\u001b[39m\u001b[38;5;124m'\u001b[39m : [],\n\u001b[0;32m     30\u001b[0m \u001b[38;5;124m'\u001b[39m\u001b[38;5;124minner_loops\u001b[39m\u001b[38;5;124m'\u001b[39m : [] }\n\u001b[0;32m     32\u001b[0m stacks \u001b[38;5;241m=\u001b[39m []\n",
      "\u001b[1;31mKeyboardInterrupt\u001b[0m: "
     ]
    }
   ],
   "source": [
    "times_a = []\n",
    "\n",
    "for i, seq in tqdm(enumerate(df['Sequence'])):\n",
    "    APT = Aptamer_Fold(parallel = False)\n",
    "    start_time = time.time()\n",
    "    d = APT.fit_fold( sequence=df['Sequence'][i] ,  n_tmpl=4, l_fix= 0 , filters = False)\n",
    "    times_a.append(time.time()- start_time)\n",
    "    \n",
    "    "
   ]
  },
  {
   "cell_type": "code",
   "execution_count": null,
   "metadata": {},
   "outputs": [
    {
     "name": "stderr",
     "output_type": "stream",
     "text": [
      "53it [00:11,  4.73it/s]\n"
     ]
    },
    {
     "ename": "KeyboardInterrupt",
     "evalue": "",
     "output_type": "error",
     "traceback": [
      "\u001b[1;31m---------------------------------------------------------------------------\u001b[0m",
      "\u001b[1;31mKeyboardInterrupt\u001b[0m                         Traceback (most recent call last)",
      "Cell \u001b[1;32mIn[7], line 4\u001b[0m\n\u001b[0;32m      2\u001b[0m \u001b[38;5;28;01mfor\u001b[39;00m i, seq \u001b[38;5;129;01min\u001b[39;00m tqdm(\u001b[38;5;28menumerate\u001b[39m(df[\u001b[38;5;124m'\u001b[39m\u001b[38;5;124mSequence\u001b[39m\u001b[38;5;124m'\u001b[39m])):\n\u001b[0;32m      3\u001b[0m     start_time \u001b[38;5;241m=\u001b[39m time\u001b[38;5;241m.\u001b[39mtime()\n\u001b[1;32m----> 4\u001b[0m     structs \u001b[38;5;241m=\u001b[39m \u001b[43mfold\u001b[49m\u001b[43m(\u001b[49m\u001b[43m \u001b[49m\u001b[43mseq\u001b[49m\u001b[43m)\u001b[49m\n\u001b[0;32m      5\u001b[0m     times_b\u001b[38;5;241m.\u001b[39mappend(time\u001b[38;5;241m.\u001b[39mtime()\u001b[38;5;241m-\u001b[39m start_time)\n",
      "File \u001b[1;32mc:\\Users\\clima\\anaconda3b\\envs\\aptamers_fold\\Lib\\site-packages\\seqfold\\fold.py:69\u001b[0m, in \u001b[0;36mfold\u001b[1;34m(seq, temp)\u001b[0m\n\u001b[0;32m     47\u001b[0m \u001b[38;5;28;01mdef\u001b[39;00m \u001b[38;5;21mfold\u001b[39m(seq: \u001b[38;5;28mstr\u001b[39m, temp: \u001b[38;5;28mfloat\u001b[39m \u001b[38;5;241m=\u001b[39m \u001b[38;5;241m37.0\u001b[39m) \u001b[38;5;241m-\u001b[39m\u001b[38;5;241m>\u001b[39m List[Struct]:\n\u001b[0;32m     48\u001b[0m \u001b[38;5;250m    \u001b[39m\u001b[38;5;124;03m\"\"\"Fold the DNA sequence and return the lowest free energy score.\u001b[39;00m\n\u001b[0;32m     49\u001b[0m \n\u001b[0;32m     50\u001b[0m \u001b[38;5;124;03m    Based on the approach described in:\u001b[39;00m\n\u001b[1;32m   (...)\u001b[0m\n\u001b[0;32m     66\u001b[0m \u001b[38;5;124;03m        List[Struct]: A list of structures. Stacks, bulges, hairpins, etc.\u001b[39;00m\n\u001b[0;32m     67\u001b[0m \u001b[38;5;124;03m    \"\"\"\u001b[39;00m\n\u001b[1;32m---> 69\u001b[0m     v_cache, w_cache \u001b[38;5;241m=\u001b[39m \u001b[43m_cache\u001b[49m\u001b[43m(\u001b[49m\u001b[43mseq\u001b[49m\u001b[43m,\u001b[49m\u001b[43m \u001b[49m\u001b[43mtemp\u001b[49m\u001b[43m)\u001b[49m\n\u001b[0;32m     70\u001b[0m     n \u001b[38;5;241m=\u001b[39m \u001b[38;5;28mlen\u001b[39m(seq)\n\u001b[0;32m     72\u001b[0m     \u001b[38;5;66;03m# get the minimum free energy structure out of the cache\u001b[39;00m\n",
      "File \u001b[1;32mc:\\Users\\clima\\anaconda3b\\envs\\aptamers_fold\\Lib\\site-packages\\seqfold\\fold.py:181\u001b[0m, in \u001b[0;36m_cache\u001b[1;34m(seq, temp)\u001b[0m\n\u001b[0;32m    178\u001b[0m     w_cache\u001b[38;5;241m.\u001b[39mappend([STRUCT_DEFAULT] \u001b[38;5;241m*\u001b[39m n)\n\u001b[0;32m    180\u001b[0m \u001b[38;5;66;03m# fill the cache\u001b[39;00m\n\u001b[1;32m--> 181\u001b[0m \u001b[43m_w\u001b[49m\u001b[43m(\u001b[49m\u001b[43mseq\u001b[49m\u001b[43m,\u001b[49m\u001b[43m \u001b[49m\u001b[38;5;241;43m0\u001b[39;49m\u001b[43m,\u001b[49m\u001b[43m \u001b[49m\u001b[43mn\u001b[49m\u001b[43m \u001b[49m\u001b[38;5;241;43m-\u001b[39;49m\u001b[43m \u001b[49m\u001b[38;5;241;43m1\u001b[39;49m\u001b[43m,\u001b[49m\u001b[43m \u001b[49m\u001b[43mtemp\u001b[49m\u001b[43m,\u001b[49m\u001b[43m \u001b[49m\u001b[43mv_cache\u001b[49m\u001b[43m,\u001b[49m\u001b[43m \u001b[49m\u001b[43mw_cache\u001b[49m\u001b[43m,\u001b[49m\u001b[43m \u001b[49m\u001b[43memap\u001b[49m\u001b[43m)\u001b[49m\n\u001b[0;32m    183\u001b[0m \u001b[38;5;28;01mreturn\u001b[39;00m v_cache, w_cache\n",
      "File \u001b[1;32mc:\\Users\\clima\\anaconda3b\\envs\\aptamers_fold\\Lib\\site-packages\\seqfold\\fold.py:218\u001b[0m, in \u001b[0;36m_w\u001b[1;34m(seq, i, j, temp, v_cache, w_cache, emap)\u001b[0m\n\u001b[0;32m    215\u001b[0m     w_cache[i][j] \u001b[38;5;241m=\u001b[39m STRUCT_NULL\n\u001b[0;32m    216\u001b[0m     \u001b[38;5;28;01mreturn\u001b[39;00m w_cache[i][j]\n\u001b[1;32m--> 218\u001b[0m w1 \u001b[38;5;241m=\u001b[39m \u001b[43m_w\u001b[49m\u001b[43m(\u001b[49m\u001b[43mseq\u001b[49m\u001b[43m,\u001b[49m\u001b[43m \u001b[49m\u001b[43mi\u001b[49m\u001b[43m \u001b[49m\u001b[38;5;241;43m+\u001b[39;49m\u001b[43m \u001b[49m\u001b[38;5;241;43m1\u001b[39;49m\u001b[43m,\u001b[49m\u001b[43m \u001b[49m\u001b[43mj\u001b[49m\u001b[43m,\u001b[49m\u001b[43m \u001b[49m\u001b[43mtemp\u001b[49m\u001b[43m,\u001b[49m\u001b[43m \u001b[49m\u001b[43mv_cache\u001b[49m\u001b[43m,\u001b[49m\u001b[43m \u001b[49m\u001b[43mw_cache\u001b[49m\u001b[43m,\u001b[49m\u001b[43m \u001b[49m\u001b[43memap\u001b[49m\u001b[43m)\u001b[49m\n\u001b[0;32m    219\u001b[0m w2 \u001b[38;5;241m=\u001b[39m _w(seq, i, j \u001b[38;5;241m-\u001b[39m \u001b[38;5;241m1\u001b[39m, temp, v_cache, w_cache, emap)\n\u001b[0;32m    220\u001b[0m w3 \u001b[38;5;241m=\u001b[39m _v(seq, i, j, temp, v_cache, w_cache, emap)\n",
      "File \u001b[1;32mc:\\Users\\clima\\anaconda3b\\envs\\aptamers_fold\\Lib\\site-packages\\seqfold\\fold.py:218\u001b[0m, in \u001b[0;36m_w\u001b[1;34m(seq, i, j, temp, v_cache, w_cache, emap)\u001b[0m\n\u001b[0;32m    215\u001b[0m     w_cache[i][j] \u001b[38;5;241m=\u001b[39m STRUCT_NULL\n\u001b[0;32m    216\u001b[0m     \u001b[38;5;28;01mreturn\u001b[39;00m w_cache[i][j]\n\u001b[1;32m--> 218\u001b[0m w1 \u001b[38;5;241m=\u001b[39m \u001b[43m_w\u001b[49m\u001b[43m(\u001b[49m\u001b[43mseq\u001b[49m\u001b[43m,\u001b[49m\u001b[43m \u001b[49m\u001b[43mi\u001b[49m\u001b[43m \u001b[49m\u001b[38;5;241;43m+\u001b[39;49m\u001b[43m \u001b[49m\u001b[38;5;241;43m1\u001b[39;49m\u001b[43m,\u001b[49m\u001b[43m \u001b[49m\u001b[43mj\u001b[49m\u001b[43m,\u001b[49m\u001b[43m \u001b[49m\u001b[43mtemp\u001b[49m\u001b[43m,\u001b[49m\u001b[43m \u001b[49m\u001b[43mv_cache\u001b[49m\u001b[43m,\u001b[49m\u001b[43m \u001b[49m\u001b[43mw_cache\u001b[49m\u001b[43m,\u001b[49m\u001b[43m \u001b[49m\u001b[43memap\u001b[49m\u001b[43m)\u001b[49m\n\u001b[0;32m    219\u001b[0m w2 \u001b[38;5;241m=\u001b[39m _w(seq, i, j \u001b[38;5;241m-\u001b[39m \u001b[38;5;241m1\u001b[39m, temp, v_cache, w_cache, emap)\n\u001b[0;32m    220\u001b[0m w3 \u001b[38;5;241m=\u001b[39m _v(seq, i, j, temp, v_cache, w_cache, emap)\n",
      "    \u001b[1;31m[... skipping similar frames: _w at line 218 (22 times)]\u001b[0m\n",
      "File \u001b[1;32mc:\\Users\\clima\\anaconda3b\\envs\\aptamers_fold\\Lib\\site-packages\\seqfold\\fold.py:218\u001b[0m, in \u001b[0;36m_w\u001b[1;34m(seq, i, j, temp, v_cache, w_cache, emap)\u001b[0m\n\u001b[0;32m    215\u001b[0m     w_cache[i][j] \u001b[38;5;241m=\u001b[39m STRUCT_NULL\n\u001b[0;32m    216\u001b[0m     \u001b[38;5;28;01mreturn\u001b[39;00m w_cache[i][j]\n\u001b[1;32m--> 218\u001b[0m w1 \u001b[38;5;241m=\u001b[39m \u001b[43m_w\u001b[49m\u001b[43m(\u001b[49m\u001b[43mseq\u001b[49m\u001b[43m,\u001b[49m\u001b[43m \u001b[49m\u001b[43mi\u001b[49m\u001b[43m \u001b[49m\u001b[38;5;241;43m+\u001b[39;49m\u001b[43m \u001b[49m\u001b[38;5;241;43m1\u001b[39;49m\u001b[43m,\u001b[49m\u001b[43m \u001b[49m\u001b[43mj\u001b[49m\u001b[43m,\u001b[49m\u001b[43m \u001b[49m\u001b[43mtemp\u001b[49m\u001b[43m,\u001b[49m\u001b[43m \u001b[49m\u001b[43mv_cache\u001b[49m\u001b[43m,\u001b[49m\u001b[43m \u001b[49m\u001b[43mw_cache\u001b[49m\u001b[43m,\u001b[49m\u001b[43m \u001b[49m\u001b[43memap\u001b[49m\u001b[43m)\u001b[49m\n\u001b[0;32m    219\u001b[0m w2 \u001b[38;5;241m=\u001b[39m _w(seq, i, j \u001b[38;5;241m-\u001b[39m \u001b[38;5;241m1\u001b[39m, temp, v_cache, w_cache, emap)\n\u001b[0;32m    220\u001b[0m w3 \u001b[38;5;241m=\u001b[39m _v(seq, i, j, temp, v_cache, w_cache, emap)\n",
      "File \u001b[1;32mc:\\Users\\clima\\anaconda3b\\envs\\aptamers_fold\\Lib\\site-packages\\seqfold\\fold.py:219\u001b[0m, in \u001b[0;36m_w\u001b[1;34m(seq, i, j, temp, v_cache, w_cache, emap)\u001b[0m\n\u001b[0;32m    216\u001b[0m     \u001b[38;5;28;01mreturn\u001b[39;00m w_cache[i][j]\n\u001b[0;32m    218\u001b[0m w1 \u001b[38;5;241m=\u001b[39m _w(seq, i \u001b[38;5;241m+\u001b[39m \u001b[38;5;241m1\u001b[39m, j, temp, v_cache, w_cache, emap)\n\u001b[1;32m--> 219\u001b[0m w2 \u001b[38;5;241m=\u001b[39m \u001b[43m_w\u001b[49m\u001b[43m(\u001b[49m\u001b[43mseq\u001b[49m\u001b[43m,\u001b[49m\u001b[43m \u001b[49m\u001b[43mi\u001b[49m\u001b[43m,\u001b[49m\u001b[43m \u001b[49m\u001b[43mj\u001b[49m\u001b[43m \u001b[49m\u001b[38;5;241;43m-\u001b[39;49m\u001b[43m \u001b[49m\u001b[38;5;241;43m1\u001b[39;49m\u001b[43m,\u001b[49m\u001b[43m \u001b[49m\u001b[43mtemp\u001b[49m\u001b[43m,\u001b[49m\u001b[43m \u001b[49m\u001b[43mv_cache\u001b[49m\u001b[43m,\u001b[49m\u001b[43m \u001b[49m\u001b[43mw_cache\u001b[49m\u001b[43m,\u001b[49m\u001b[43m \u001b[49m\u001b[43memap\u001b[49m\u001b[43m)\u001b[49m\n\u001b[0;32m    220\u001b[0m w3 \u001b[38;5;241m=\u001b[39m _v(seq, i, j, temp, v_cache, w_cache, emap)\n\u001b[0;32m    222\u001b[0m w4 \u001b[38;5;241m=\u001b[39m STRUCT_NULL\n",
      "File \u001b[1;32mc:\\Users\\clima\\anaconda3b\\envs\\aptamers_fold\\Lib\\site-packages\\seqfold\\fold.py:219\u001b[0m, in \u001b[0;36m_w\u001b[1;34m(seq, i, j, temp, v_cache, w_cache, emap)\u001b[0m\n\u001b[0;32m    216\u001b[0m     \u001b[38;5;28;01mreturn\u001b[39;00m w_cache[i][j]\n\u001b[0;32m    218\u001b[0m w1 \u001b[38;5;241m=\u001b[39m _w(seq, i \u001b[38;5;241m+\u001b[39m \u001b[38;5;241m1\u001b[39m, j, temp, v_cache, w_cache, emap)\n\u001b[1;32m--> 219\u001b[0m w2 \u001b[38;5;241m=\u001b[39m \u001b[43m_w\u001b[49m\u001b[43m(\u001b[49m\u001b[43mseq\u001b[49m\u001b[43m,\u001b[49m\u001b[43m \u001b[49m\u001b[43mi\u001b[49m\u001b[43m,\u001b[49m\u001b[43m \u001b[49m\u001b[43mj\u001b[49m\u001b[43m \u001b[49m\u001b[38;5;241;43m-\u001b[39;49m\u001b[43m \u001b[49m\u001b[38;5;241;43m1\u001b[39;49m\u001b[43m,\u001b[49m\u001b[43m \u001b[49m\u001b[43mtemp\u001b[49m\u001b[43m,\u001b[49m\u001b[43m \u001b[49m\u001b[43mv_cache\u001b[49m\u001b[43m,\u001b[49m\u001b[43m \u001b[49m\u001b[43mw_cache\u001b[49m\u001b[43m,\u001b[49m\u001b[43m \u001b[49m\u001b[43memap\u001b[49m\u001b[43m)\u001b[49m\n\u001b[0;32m    220\u001b[0m w3 \u001b[38;5;241m=\u001b[39m _v(seq, i, j, temp, v_cache, w_cache, emap)\n\u001b[0;32m    222\u001b[0m w4 \u001b[38;5;241m=\u001b[39m STRUCT_NULL\n",
      "    \u001b[1;31m[... skipping similar frames: _w at line 219 (20 times)]\u001b[0m\n",
      "File \u001b[1;32mc:\\Users\\clima\\anaconda3b\\envs\\aptamers_fold\\Lib\\site-packages\\seqfold\\fold.py:219\u001b[0m, in \u001b[0;36m_w\u001b[1;34m(seq, i, j, temp, v_cache, w_cache, emap)\u001b[0m\n\u001b[0;32m    216\u001b[0m     \u001b[38;5;28;01mreturn\u001b[39;00m w_cache[i][j]\n\u001b[0;32m    218\u001b[0m w1 \u001b[38;5;241m=\u001b[39m _w(seq, i \u001b[38;5;241m+\u001b[39m \u001b[38;5;241m1\u001b[39m, j, temp, v_cache, w_cache, emap)\n\u001b[1;32m--> 219\u001b[0m w2 \u001b[38;5;241m=\u001b[39m \u001b[43m_w\u001b[49m\u001b[43m(\u001b[49m\u001b[43mseq\u001b[49m\u001b[43m,\u001b[49m\u001b[43m \u001b[49m\u001b[43mi\u001b[49m\u001b[43m,\u001b[49m\u001b[43m \u001b[49m\u001b[43mj\u001b[49m\u001b[43m \u001b[49m\u001b[38;5;241;43m-\u001b[39;49m\u001b[43m \u001b[49m\u001b[38;5;241;43m1\u001b[39;49m\u001b[43m,\u001b[49m\u001b[43m \u001b[49m\u001b[43mtemp\u001b[49m\u001b[43m,\u001b[49m\u001b[43m \u001b[49m\u001b[43mv_cache\u001b[49m\u001b[43m,\u001b[49m\u001b[43m \u001b[49m\u001b[43mw_cache\u001b[49m\u001b[43m,\u001b[49m\u001b[43m \u001b[49m\u001b[43memap\u001b[49m\u001b[43m)\u001b[49m\n\u001b[0;32m    220\u001b[0m w3 \u001b[38;5;241m=\u001b[39m _v(seq, i, j, temp, v_cache, w_cache, emap)\n\u001b[0;32m    222\u001b[0m w4 \u001b[38;5;241m=\u001b[39m STRUCT_NULL\n",
      "File \u001b[1;32mc:\\Users\\clima\\anaconda3b\\envs\\aptamers_fold\\Lib\\site-packages\\seqfold\\fold.py:226\u001b[0m, in \u001b[0;36m_w\u001b[1;34m(seq, i, j, temp, v_cache, w_cache, emap)\u001b[0m\n\u001b[0;32m    223\u001b[0m \u001b[38;5;28;01mfor\u001b[39;00m k \u001b[38;5;129;01min\u001b[39;00m \u001b[38;5;28mrange\u001b[39m(i \u001b[38;5;241m+\u001b[39m \u001b[38;5;241m1\u001b[39m, j \u001b[38;5;241m-\u001b[39m \u001b[38;5;241m1\u001b[39m):\n\u001b[0;32m    224\u001b[0m     w4_test \u001b[38;5;241m=\u001b[39m _multi_branch(seq, i, k, j, temp, v_cache, w_cache, emap, \u001b[38;5;28;01mFalse\u001b[39;00m)\n\u001b[1;32m--> 226\u001b[0m     \u001b[38;5;28;01mif\u001b[39;00m w4_test \u001b[38;5;129;01mand\u001b[39;00m w4_test\u001b[38;5;241m.\u001b[39me \u001b[38;5;241m<\u001b[39m w4\u001b[38;5;241m.\u001b[39me:\n\u001b[0;32m    227\u001b[0m         w4 \u001b[38;5;241m=\u001b[39m w4_test\n\u001b[0;32m    229\u001b[0m w \u001b[38;5;241m=\u001b[39m _min_struct(w1, w2, w3, w4)\n",
      "\u001b[1;31mKeyboardInterrupt\u001b[0m: "
     ]
    }
   ],
   "source": [
    "times_b = []\n",
    "for i, seq in tqdm(enumerate(df['Sequence'])):\n",
    "    start_time = time.time()\n",
    "    structs = fold( seq)\n",
    "    times_b.append(time.time()- start_time)"
   ]
  },
  {
   "cell_type": "code",
   "execution_count": null,
   "metadata": {},
   "outputs": [],
   "source": [
    "APT = Aptamer_Fold()\n",
    "d = APT.fit_fold( sequence=df['Sequence'][i] ,  n_tmpl=4, l_fix= 0 , filters = False)"
   ]
  },
  {
   "cell_type": "code",
   "execution_count": null,
   "metadata": {},
   "outputs": [
    {
     "data": {
      "text/plain": [
       "'(((.((((....................................)))).)))'"
      ]
     },
     "execution_count": 5,
     "metadata": {},
     "output_type": "execute_result"
    }
   ],
   "source": [
    "d"
   ]
  },
  {
   "cell_type": "code",
   "execution_count": 12,
   "metadata": {},
   "outputs": [
    {
     "data": {
      "image/png": "[encoded data removed]",
      "text/plain": [
       "<Figure size 640x480 with 1 Axes>"
      ]
     },
     "metadata": {},
     "output_type": "display_data"
    }
   ],
   "source": [
    "bg = BulgeGraph.from_dotbracket( d ,  df['Sequence'][0] )\n",
    "\n",
    "fvm.plot_rna(bg, text_kwargs={\"fontweight\":\"black\"}, lighten=0.7,backbone_kwargs={\"linewidth\":3})\n",
    "plt.show()"
   ]
  },
  {
   "cell_type": "code",
   "execution_count": null,
   "metadata": {},
   "outputs": [],
   "source": [
    "import RNA\n",
    "\n",
    "def compute_dna_energy(sequence, structure):\n",
    "    \"\"\"\n",
    "    Compute the free energy of a given DNA sequence and its dot-bracket structure using ViennaRNA package\n",
    "    with DNA folding parameters.\n",
    "    \n",
    "    Args:\n",
    "    sequence (str): DNA sequence.\n",
    "    structure (str): Dot-bracket structure of the DNA sequence.\n",
    "    \n",
    "    Returns:\n",
    "    float: Free energy of the given structure.\n",
    "    \"\"\"\n",
    "    # RNA package initialization with DNA parameters\n",
    "    md = RNA.md()\n",
    "    md.temperature = 37.0  # Set to default temperature (37°C) for DNA\n",
    "    md.dangles = 2         # Use default dangling end options\n",
    "    md.noLP = 0            # No lonely pairs\n",
    "    md.noGU = 1            # DNA doesn't form GU pairs\n",
    "    md.energy_set = 1      # Use DNA parameters\n",
    "    \n",
    "    # Create a fold compound with the specified model details\n",
    "    fc = RNA.fold_compound(sequence, md)\n",
    "    \n",
    "    # Calculate the free energy of the provided structure\n",
    "    energy = fc.eval_structure(structure)\n",
    "    \n",
    "    return energy\n",
    "\n",
    "\n",
    "# Example usage\n",
    "sequence = df['Sequence'][i] \n",
    "structure = d_b\n",
    "\n",
    "energy = compute_energy(sequence, structure)\n",
    "print(f\"Free energy of the structure: {energy} kcal/mol\")\n"
   ]
  },
  {
   "cell_type": "code",
   "execution_count": null,
   "metadata": {},
   "outputs": [],
   "source": [
    "d_b"
   ]
  },
  {
   "cell_type": "code",
   "execution_count": null,
   "metadata": {},
   "outputs": [],
   "source": [
    "stru"
   ]
  },
  {
   "cell_type": "code",
   "execution_count": null,
   "metadata": {},
   "outputs": [],
   "source": [
    "for s in structs:\n",
    "    print(s)\n",
    "    "
   ]
  },
  {
   "cell_type": "code",
   "execution_count": null,
   "metadata": {},
   "outputs": [],
   "source": []
  },
  {
   "cell_type": "code",
   "execution_count": null,
   "metadata": {},
   "outputs": [],
   "source": [
    "from seqfold import fold, dg, dg_cache, dot_bracket\n",
    "\n",
    "non_work = []\n",
    "# just returns minimum free energy\n",
    "for i in  tqdm(range(200)):\n",
    "# `fold` returns a list of `seqfold.Struct` from the minimum free energy structure\n",
    "    structs = fold( df['Sequence'][i])\n",
    "    # -13.4, same as dg()\n",
    "    # `dot_bracket` returns a dot_bracket representation of the folding\n",
    "    d_b = dot_bracket( df['Sequence'][i], structs)\n",
    "    e, stru= compute_energy(df['Sequence'][i], d_b )\n",
    "    if round(sum(s.e for s in structs),5) != round(e,5):\n",
    "        non_work.append(i)\n",
    "        #print(round(sum(s.e for s in structs),5), round(e,5))\n",
    "        print(i)\n",
    "        "
   ]
  },
  {
   "cell_type": "code",
   "execution_count": null,
   "metadata": {},
   "outputs": [],
   "source": [
    "stru"
   ]
  },
  {
   "cell_type": "code",
   "execution_count": null,
   "metadata": {},
   "outputs": [],
   "source": []
  },
  {
   "cell_type": "code",
   "execution_count": null,
   "metadata": {},
   "outputs": [],
   "source": [
    "def compute_descriptor(input_string):\n",
    "    descriptor = []\n",
    "    sum = 0\n",
    "    for count, char in enumerate(input_string):\n",
    "        if char == '(':\n",
    "            sum +=1\n",
    "            descriptor.append(sum)\n",
    "        elif char == ')':\n",
    "            descriptor.append(sum)\n",
    "            sum -= 1\n",
    "        elif char == '.':\n",
    "            descriptor.append(sum)      \n",
    "    return descriptor\n",
    "\n",
    "\n",
    "def substructure_ID(string):\n",
    "    w= compute_descriptor(string)\n",
    "   \n",
    "    mask = np.isin( np.array(list(string)), ['(', ')'])\n",
    "    p = mask.astype(int)\n",
    "    \n",
    "    dct = {'hairpins' : [],\n",
    "    'multi-branches' : [],\n",
    "    'stacks' : [],\n",
    "    'left_bulges' : [],\n",
    "    'right_bulges' : [],\n",
    "    'inner_loops' : [] }\n",
    "    \n",
    "    stacks = []\n",
    "    for count, s in enumerate(string):\n",
    "        #print(stacks)\n",
    "        if s == '(':\n",
    "            stacks.append(count)\n",
    "            \n",
    "        elif s == ')':\n",
    "            if stacks:\n",
    "                i = stacks.pop()\n",
    "                j = count\n",
    "            \n",
    "            if w[i]==w[i+1]-1 and w[j]==w[j-1]-1:\n",
    "                dct['stacks'].append((i,j))\n",
    "                \n",
    "            else:\n",
    "                l = w[i]\n",
    "                \n",
    "                L = np.where(np.logical_and(np.array(w[i:j], dtype = int)== l+1 , np.array(p[i:j])==1  ))[0] + i\n",
    "              \n",
    "                #print(l, w)\n",
    "                #print(string[i:j])\n",
    "                print('ala',w[i],w[i:j])\n",
    "                T = int(len(L)/2)\n",
    "                print(len(L))\n",
    "                if T == 0 and np.abs(i-j)>=4:\n",
    "                    print('hairpin')\n",
    "                    dct['hairpins'].append((i,j))\n",
    "                elif T == 1:\n",
    "                    print('Inner')\n",
    "                    #print(L)\n",
    "                    stat = [i, L[0], L[1],j]\n",
    "                    print(stat)\n",
    "                    if w[i]==w[i+1]-1 and w[j]!=w[j-1]-1: #right buldge\n",
    "                        dct['right_bulges'].append([(stat[k], stat[k-1]) for k in range(2)]) #[(i, j), (i1,j1)]\n",
    "                        #dct['right_buldges'].append((i,j))\n",
    "                    elif w[i]!=w[i+1]-1 and w[j]==w[j-1]-1: #left buldge\n",
    "                        dct['left_bulges'].append([(stat[k], stat[-k-1]) for k in range(2)])#[(i, j), (i1,j1)]\n",
    "                        #dct['left_buldges'].append((i,j))\n",
    "                    else:\n",
    "                        dct['inner_loops'].append([(stat[k], stat[-k-1]) for k in range(2)])#[(i, j), (i1,j1)]\n",
    "                        #dct['inner_loops'].append((i,j))\n",
    "                elif T > 1:\n",
    "                    #print(l+1,w[i:j])\n",
    "                    stat = [i, j] + list(L) \n",
    "                    #TODO return coorect stuff\n",
    "                    \n",
    "                    print('multi', L)\n",
    "                    dct['multi-branches'].append( [(stat[2*k], stat[2*k+1]) for k in range(T+1)]  )\n",
    "                    \n",
    "                \n",
    "    return dct\n"
   ]
  },
  {
   "cell_type": "code",
   "execution_count": null,
   "metadata": {},
   "outputs": [],
   "source": [
    "branches = dct['multi-branches']\n",
    "branches[0]"
   ]
  },
  {
   "cell_type": "code",
   "execution_count": null,
   "metadata": {},
   "outputs": [],
   "source": []
  },
  {
   "cell_type": "code",
   "execution_count": null,
   "metadata": {},
   "outputs": [],
   "source": [
    "compute_energy(df['Sequence'][1], df['Structure_UNA'][1] )"
   ]
  },
  {
   "cell_type": "code",
   "execution_count": null,
   "metadata": {},
   "outputs": [],
   "source": [
    "bg = BulgeGraph.from_dotbracket( df['Structure_UNA'][0] ,  df['Sequence'][1] )\n",
    "\n",
    "fvm.plot_rna(bg, text_kwargs={\"fontweight\":\"black\"}, lighten=0.7,backbone_kwargs={\"linewidth\":3})\n",
    "plt.show()"
   ]
  },
  {
   "cell_type": "code",
   "execution_count": null,
   "metadata": {},
   "outputs": [],
   "source": [
    "_hairpin(df['Sequence'][0], 14, 18, 37,  emap )"
   ]
  },
  {
   "cell_type": "code",
   "execution_count": null,
   "metadata": {},
   "outputs": [],
   "source": [
    "_stack(df['Sequence'][0], 13, 14, 19, 18, 37, emap) "
   ]
  },
  {
   "cell_type": "code",
   "execution_count": null,
   "metadata": {},
   "outputs": [],
   "source": [
    "_bulge( df['Sequence'][1], 9,21, 42, 41,37, emap)"
   ]
  },
  {
   "cell_type": "code",
   "execution_count": null,
   "metadata": {},
   "outputs": [],
   "source": [
    "_internal_loop(df['Sequence'][1], 26, 28, 42, 40, 37, emap)"
   ]
  },
  {
   "cell_type": "code",
   "execution_count": null,
   "metadata": {},
   "outputs": [],
   "source": [
    "_multi_branch(df['Sequence'][2], 37 ,branches[0], emap)\n"
   ]
  },
  {
   "cell_type": "code",
   "execution_count": null,
   "metadata": {},
   "outputs": [],
   "source": [
    "plt.plot(np.arange(len(df['Structure_UNA'][0])), compute_descriptor(df['Structure_UNA'][0]))"
   ]
  },
  {
   "cell_type": "code",
   "execution_count": null,
   "metadata": {},
   "outputs": [],
   "source": [
    "\n",
    "'((((((((....(((...))).............((...))...))))))))'"
   ]
  },
  {
   "cell_type": "code",
   "execution_count": null,
   "metadata": {},
   "outputs": [],
   "source": [
    "bg = BulgeGraph.from_dotbracket( df['Structure_UNA'][3] ,  df['Sequence'][3] )\n",
    "\n",
    "fvm.plot_rna(bg, text_kwargs={\"fontweight\":\"black\"}, lighten=0.7,backbone_kwargs={\"linewidth\":3})\n",
    "plt.show()\n",
    "\n",
    "dct = substructure_ID(df['Structure_UNA'][100])\n",
    "print(dct)"
   ]
  },
  {
   "cell_type": "code",
   "execution_count": null,
   "metadata": {},
   "outputs": [],
   "source": [
    "seqs = Aptamer_Fold().fit_fold(sequence= df['Sequence'][0],  n_tmpl=4, l_fix=8 ,  return_min = False, filters = False)\n",
    "bg = BulgeGraph.from_dotbracket( df['Structure_UNA'][0] ,  df['Sequence'][0] )\n",
    "\n",
    "fvm.plot_rna(bg, text_kwargs={\"fontweight\":\"black\"}, lighten=0.7,backbone_kwargs={\"linewidth\":3})\n",
    "plt.show()\n",
    "\n",
    "bg = BulgeGraph.from_dotbracket( df['Structure_UNA'][1] ,  df['Sequence'][1] )\n",
    "\n",
    "fvm.plot_rna(bg, text_kwargs={\"fontweight\":\"black\"}, lighten=0.7,backbone_kwargs={\"linewidth\":3})\n",
    "plt.show()"
   ]
  },
  {
   "cell_type": "code",
   "execution_count": null,
   "metadata": {},
   "outputs": [],
   "source": [
    "percentile_95 = np.percentile(df['Sequence'].apply(len), 95) \n",
    "percentile_3 = np.percentile(df['Sequence'].apply(len), 5)\n",
    "# Filter DataFrame to remove rows with list lengths outside the 95th percentile\n",
    "df = df[df['Sequence'].apply(len).between(0, np.ceil(percentile_95))]\n",
    "df = df[df['Sequence'].apply(len) > np.floor(percentile_3)]"
   ]
  },
  {
   "cell_type": "code",
   "execution_count": null,
   "metadata": {},
   "outputs": [],
   "source": [
    "def compute_descriptor(input_string):\n",
    "    descriptor = []\n",
    "    sum = 0\n",
    "    for  char in input_string:\n",
    "        if char == '(':\n",
    "            sum +=1\n",
    "            descriptor.append(sum)\n",
    "        elif char == ')':\n",
    "            sum -=1 \n",
    "            descriptor.append(sum)\n",
    "        elif char == '.':\n",
    "            descriptor.append(sum)      \n",
    "    return descriptor\n",
    "\n",
    "\n",
    "def dna_descriptor(sequence, n_max):\n",
    "    # Create an array of zeros with the same length as the sequence\n",
    "    complete_descriptor = []\n",
    "    for l in ['A', 'C', 'T', 'G']:\n",
    "        descriptor = np.zeros(len(sequence), dtype=int)\n",
    "        descriptor[ np.where(np.array(list(sequence)) == l)[0]] = 1\n",
    "        \n",
    "        complete_descriptor +=descriptor.tolist()\n",
    "        complete_descriptor+=np.zeros(n_max -len(sequence), dtype=int).tolist()\n",
    "    return np.asarray(complete_descriptor)"
   ]
  },
  {
   "cell_type": "code",
   "execution_count": null,
   "metadata": {},
   "outputs": [],
   "source": [
    "\n",
    "df['Descriptor'] = df['Structure_UNA'].apply(lambda x: compute_descriptor(x) )\n",
    "df['Descriptor'] = df['Descriptor'] .apply(lambda x: np.array(x))\n",
    "# Determine the maximum length of the lists\n",
    "max_length = df['Descriptor'].apply(len).max()\n",
    "\n",
    "# Convert the lists column into a numpy array with padding\n",
    "X = np.zeros((len(df), max_length*5), dtype=int)\n",
    "for i, row in enumerate(df['Descriptor']):\n",
    "    X[i, :len(row)] = row\n",
    "    X[i,max_length:] = dna_descriptor(df['Sequence'][0],max_length)"
   ]
  },
  {
   "cell_type": "code",
   "execution_count": null,
   "metadata": {},
   "outputs": [],
   "source": [
    "\n",
    "\n",
    "idx = df['Count'] >= 1000\n",
    "X_embedded = TSNE(n_components=2, learning_rate='auto', init='random', random_state=42, perplexity=3).fit_transform(X)\n",
    "\n",
    "X_embedded = X_embedded\n",
    "colors =np.log(df['Count'])\n",
    "plt.scatter(X_embedded[::-1,0], X_embedded[::-1,1],c=colors[::-1], cmap='viridis')\n",
    "#plt.scatter(X_embedded[idx,0], X_embedded[idx,1])\n",
    "plt.colorbar(label='Count')\n",
    "plt.show()\n",
    "\n",
    "\n",
    "\n",
    "X_embedded = TSNE(n_components=2, learning_rate='auto', init='random', random_state=42, perplexity=50).fit_transform(X)\n",
    "X_embedded = X_embedded\n",
    "colors =np.log(df['Count'])\n",
    "plt.scatter(X_embedded[::-1,0], X_embedded[::-1,1],c=colors [::-1], cmap='viridis')\n",
    "\n",
    "plt.colorbar(label='Count')\n",
    "plt.show()\n",
    "\n",
    "X_embedded = TSNE(n_components=2, learning_rate='auto', init='random', random_state=42, perplexity=120).fit_transform(X)\n",
    "X_embedded = X_embedded\n",
    "colors =np.log(df['Count'])\n",
    "plt.scatter(X_embedded[::-1,0], X_embedded[::-1,1],c=colors[::-1], cmap='viridis')\n",
    "#plt.scatter(X_embedded[idx,0], X_embedded[idx,1])\n",
    "plt.colorbar(label='Count')\n",
    "plt.show()\n",
    "\n",
    "\n",
    "\n",
    "\n",
    "\n",
    "\n"
   ]
  },
  {
   "cell_type": "code",
   "execution_count": null,
   "metadata": {},
   "outputs": [],
   "source": [
    "\n",
    "\n",
    "df['Descriptor'] = df['Structure_graph_match'].apply(lambda x: compute_descriptor(x) )\n",
    "df['Descriptor'] = df['Descriptor'] .apply(lambda x: np.array(x[8:-8]))\n",
    "\n",
    "# Determine the maximum length of the lists\n",
    "max_length = df['Descriptor'].apply(len).max()\n",
    "\n",
    "# Convert the lists column into a numpy array with padding\n",
    "X = np.zeros((len(df), max_length), dtype=int)\n",
    "for i, row in enumerate(df['Descriptor']):\n",
    "    X[i, :len(row)] = row\n",
    "\n",
    "X_embedded = TSNE(n_components=2, learning_rate='auto', init='random', random_state=42, perplexity=3).fit_transform(X)\n",
    "plt.scatter(X_embedded[::-1,0], X_embedded[::-1,1],c=df['Count'][::-1], cmap='viridis')\n",
    "plt.colorbar(label='Count')\n",
    "plt.show()\n",
    "\n",
    "X_embedded = TSNE(n_components=2, learning_rate='auto', init='random', random_state=42, perplexity=30).fit_transform(X)\n",
    "plt.scatter(X_embedded[::-1,0], X_embedded[::-1,1],c=df['Count'][::-1], cmap='viridis')\n",
    "plt.colorbar(label='Count')\n",
    "plt.show()\n",
    "\n"
   ]
  },
  {
   "cell_type": "code",
   "execution_count": null,
   "metadata": {},
   "outputs": [],
   "source": [
    "\n",
    "\n",
    "\n",
    "df['Descriptor'] = df['Structure_RNA'].apply(lambda x: compute_descriptor(x) )\n",
    "df['Descriptor'] = df['Descriptor'] .apply(lambda x: np.array(x[8:-8]))\n",
    "# Determine the maximum length of the lists\n",
    "max_length = df['Descriptor'].apply(len).max()\n",
    "\n",
    "# Convert the lists column into a numpy array with padding\n",
    "X = np.zeros((len(df), max_length), dtype=int)\n",
    "for i, row in enumerate(df['Descriptor']):\n",
    "    X[i, :len(row)] = row\n",
    "\n",
    "X_embedded = TSNE(n_components=2, learning_rate='auto', init='random', random_state=42, perplexity=3).fit_transform(X)\n",
    "plt.scatter(X_embedded[::-1,0], X_embedded[::-1,1],c=df['Count'][::-1], cmap='viridis')\n",
    "plt.colorbar(label='Count')\n",
    "plt.show()\n",
    "\n",
    "X_embedded = TSNE(n_components=2, learning_rate='auto', init='random', random_state=42, perplexity=30).fit_transform(X)\n",
    "plt.scatter(X_embedded[::-1,0], X_embedded[::-1,1],c=df['Count'][::-1], cmap='viridis')\n",
    "plt.colorbar(label='Count')\n",
    "plt.show()\n"
   ]
  },
  {
   "cell_type": "code",
   "execution_count": null,
   "metadata": {},
   "outputs": [],
   "source": []
  },
  {
   "cell_type": "code",
   "execution_count": null,
   "metadata": {},
   "outputs": [],
   "source": [
    "'''\n",
    "df = pd.read_csv(r'C:\\Users\\clima\\Desktop\\Aptamers\\data\\preprocessed _files\\merged_all.csv')\n",
    "print('Numeber sequences after merge:',len(df))\n",
    "df = df.drop_duplicates(subset='Sequence')\n",
    "print('Numeber of unique sequences after merge:',len(df))\n",
    "\n",
    "\n",
    "def predict_secondary_structure(sequence):\n",
    "    structs = fold(sequence)\n",
    "    return dot_bracket(sequence, structs)\n",
    "\n",
    "start = time.time()\n",
    "df['Structure_UNA'] = df['Sequence'].apply(lambda x: predict_secondary_structure(x))\n",
    "print(time.time()- start) \n",
    "df= df.dropna(subset=['Structure_UNA'])\n",
    "df.to_csv('UNAfold_merged_all.csv', index=False)\n",
    "\n",
    "start = time.time()\n",
    "APT = Aptamer_Fold()\n",
    "\n",
    "df['Structure_graph_match'] = df['Sequence'].apply(lambda x: Aptamer_Fold().fit_fold(sequence= x,  n_tmpl=4, l_fix=8 , filters = False))\n",
    "print(time.time()- start) \n",
    "df= df.dropna(subset=['Structure_graph_match'])\n",
    "'''"
   ]
  }
 ],
 "metadata": {
  "kernelspec": {
   "display_name": "aptamers_fold",
   "language": "python",
   "name": "python3"
  },
  "language_info": {
   "codemirror_mode": {
    "name": "ipython",
    "version": 3
   },
   "file_extension": ".py",
   "mimetype": "text/x-python",
   "name": "python",
   "nbconvert_exporter": "python",
   "pygments_lexer": "ipython3",
   "version": "3.12.3"
  }
 },
 "nbformat": 4,
 "nbformat_minor": 2
}
