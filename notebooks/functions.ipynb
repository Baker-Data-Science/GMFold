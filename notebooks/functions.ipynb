{
 "cells": [
  {
   "cell_type": "code",
   "execution_count": 13,
   "metadata": {},
   "outputs": [],
   "source": [
    "import numpy as np\n",
    "\n",
    "n_tmpl = 6\n",
    "n_wrld = 45\n",
    "\n",
    "\n",
    "def init_candidate_dict(n_tmpl, n_wrld):\n",
    "        D= {}\n",
    "        for i in range(n_tmpl): \n",
    "            D[f'{i}'] = list(range(n_wrld))\n",
    "        return D\n",
    "   \n",
    "   \n",
    "def convert_string_to_list(string):\n",
    "    mapping = {'A': 0, 'T': 3, 'C': 1, 'G': 2}\n",
    "    result = []\n",
    "    for char in string:\n",
    "        if char in mapping:\n",
    "            result.append(mapping[char])\n",
    "        else:\n",
    "           print('invalid character. Only allowed nucleotides are ACTG')\n",
    "           break\n",
    "    return result\n",
    "        \n",
    "    \n",
    "def build_BG_matrix(n, lst, m = 6):\n",
    "    BG = np.zeros((n, n), dtype=int)\n",
    "    \n",
    "    for i in range(n):\n",
    "        for j in range(n):\n",
    "            if (i <= 3 or j <= 3) and (i + j == n - 1):\n",
    "                BG[i, j] = 1\n",
    "            elif i > 3 and j > 3 and lst[i] + lst[j] == 3 and np.abs(i - j) >= m-1:\n",
    "                BG[i, j] = 1\n",
    "    return BG\n",
    "\n",
    "\n",
    "def motif_ngh_dct(m):\n",
    "    graph = {}\n",
    "    for i in range(m):\n",
    "        if i == 0:\n",
    "            graph[str(i)] = [1, m-1]\n",
    "        elif i == m-1:\n",
    "            graph[str(i)] = [0, m-2]\n",
    "        elif i == m//2 or i == m//2 - 1:\n",
    "            graph[str(i)] = [i-1, i+1]\n",
    "        else:\n",
    "            graph[str(i)] = [i-1, i+1, m-i-1]\n",
    "    return graph\n",
    "\n",
    "\n",
    "def backbone_bonds_matrix(n):\n",
    "    # Initialize an empty 2D array filled with zeros\n",
    "    array = np.zeros((n, n), dtype=int)\n",
    "    # Set ones in adjacent entries\n",
    "    array[np.diag_indices(n - 1)[1] , np.diag_indices(n - 1)[0]+1] = 1\n",
    "            \n",
    "    return array + array.T\n",
    "\n",
    "\n",
    "    \n",
    "\n",
    "def stats_filter(m, lst, candidates_dct ):\n",
    "    \n",
    "    # Set up array with ith entry size of the neigh of the i-th vertex in motif\n",
    "    if m==2:\n",
    "        ngh_mtf = np.ones(m, dtype = int)\n",
    "    else:\n",
    "        ngh_mtf = 3*np.ones(m, dtype = int)\n",
    "        ngh_mtf[[0,m-1, m//2 , m//2 - 1]] = 2\n",
    "        \n",
    "    #Set up array with ith entry size of the neigh of the i-th vertex in  world graph\n",
    "    n     = len(lst)\n",
    "    dlt_g = backbone_bonds_matrix(n)\n",
    "    B_g   = build_BG_matrix(n, lst)\n",
    "    ngh_wrld  = np.sum(dlt_g + B_g, axis = 1)\n",
    "    \n",
    "    #Remove from the candidates set of a motiv vertex all the verteces in wrld graph with lower degree\n",
    "    for i in range(m):\n",
    "        if i not in [0,m-1, m//2 , m//2 - 1]:\n",
    "            condition = np.where(ngh_wrld < ngh_mtf[i])\n",
    "            candidates_dct[str(i)] = list(np.delete(np.array(candidates_dct[str(i)] ),condition))\n",
    "    return candidates_dct\n",
    "\n",
    "\n",
    "def topology_filter(m, lst, candidates_dct):\n",
    "\n",
    "    nhg_mtf = motif_ngh_dct(m) #neighbhors of motif node\n",
    "    dlt_g = backbone_bonds_matrix(len(lst))\n",
    "    B_g   = build_BG_matrix(len(lst), lst)\n",
    "    D_g =  dlt_g + B_g \n",
    "    \n",
    "    print(D_g.shape)\n",
    "    for i in range(m): #lopp over vertices motif\n",
    "        for j in nhg_mtf[str(i)]: # loop of neigh mot vertex\n",
    "            #indices of condidates for ith motif node that have a neigh that is not in the candidate set of any of the neighbs of the ith motif node\n",
    "            indx_remove = np.where(np.sum(D_g[candidates_dct[str(i)]][:,candidates_dct[str(j)]], axis = 1) == 0)\n",
    "            candidates_dct[str(i)] = list(np.delete(np.array(candidates_dct[str(i)] ),indx_remove))\n",
    "            \n",
    "    return candidates_dct\n",
    "\n",
    "\n",
    "\n"
   ]
  },
  {
   "cell_type": "code",
   "execution_count": 19,
   "metadata": {},
   "outputs": [],
   "source": [
    "import numpy as np\n",
    "\n",
    "def apt_filter(m, lst, candidates_dct, l_fix= 4):\n",
    "    n = len(lst)\n",
    "    \n",
    "    # Remove unnecessary elements from candidates_dct\n",
    "    \n",
    "    for i in range(m):\n",
    "        for count, j in enumerate([0, 1, 2, 3, n-1, n-2, n-3, n-4]):\n",
    "            if count != i:\n",
    "                try:\n",
    "                    candidates_dct[str(i)].remove(j)\n",
    "                except ValueError:\n",
    "                    pass\n",
    "    \n",
    "\n",
    "    # Define function motif_ngh_dct and build_BG_matrix\n",
    "    nhg_mtf = motif_ngh_dct(m) #neighbhors of motif node\n",
    "    B_g   = build_BG_matrix(len(lst), lst, m)\n",
    "  \n",
    "    # Initialize motifs list\n",
    "    motifs = []\n",
    "    motifs_vect =[]\n",
    "    # Iterate over the candidates for the first motif node\n",
    "    range_loop = candidates_dct[str(0)].copy()\n",
    "    range_loop_2 = candidates_dct[str(m//2)].copy()\n",
    "    for i in range_loop[:]:\n",
    "        # Check if i is within range\n",
    "        if l_fix-1 <= i <= n-l_fix-1:\n",
    "            flag = False\n",
    "\n",
    "            # If the condition satisfies for the first half of the motif\n",
    "            if  np.any([i+count not in candidates_dct[str(m//2-k)] for count,k in enumerate(range(m//2-1,0,-1),1)]):\n",
    "                \n",
    "                for k in range(m//2):\n",
    "                    try:\n",
    "                        candidates_dct[str(k)].remove(i + k)\n",
    "                    except ValueError:\n",
    "                        pass\n",
    "\n",
    "            else:\n",
    "                # Check the condition for the second half of the motif\n",
    "                for j in range_loop_2:\n",
    "                    if np.any([j+i not in candidates_dct[str(m//2+i)] for i in range(1, m//2)]):\n",
    "                        for k in range(m//2, m):\n",
    "                            try:\n",
    "                                candidates_dct[str(k)].remove(j + k-m//2)\n",
    "                            except ValueError:\n",
    "                                pass\n",
    "                    elif (j >= i+5 and j <= n-5 and \n",
    "                          np.all(B_g[list(range(j, j+m//2))][:,list(range(i, i+m//2))] == np.eye(m//2, dtype=int))):\n",
    "                        flag = True\n",
    "                        \n",
    "                        #store hit motifs as pairs\n",
    "                        motif = [(i+k, j+m//2-1-k) for k in range(m//2)]\n",
    "                        #store hits motifs as vectors\n",
    "                        motif_vect = [i+k for k in range(m//2)]\n",
    "                        for k in range(m//2):\n",
    "                            motif_vect.append(j+k)\n",
    "                            \n",
    "                        motifs.append(motif)\n",
    "                        motifs_vect.append(np.asarray(motif_vect))\n",
    "\n",
    "            # Update holder_dct if motif not found\n",
    "            if not flag:\n",
    "                for k in range(m//2):\n",
    "                    try:\n",
    "                        candidates_dct[str(k)].remove(i + k)\n",
    "                    except ValueError:\n",
    "                        pass\n",
    "\n",
    "    return candidates_dct, motifs, motifs_vect\n",
    "\n",
    "\n",
    "def compatible(motif_1, motif_2):\n",
    "     diff= motif_1 - motif_2\n",
    "     compatible= False\n",
    "     if np.all(diff==0):\n",
    "         compatible= True\n",
    "     else:\n",
    "          for i in range(len(diff)//2-1,0, -1):\n",
    "               if np.all(diff[:i+1]!= 0) and np.all(diff[-i-1:]!= 0) and np.all(diff[i+1:-i-1]==0):\n",
    "                    compatible== True\n",
    "                    break\n",
    "     return compatibility"
   ]
  },
  {
   "cell_type": "code",
   "execution_count": 14,
   "metadata": {},
   "outputs": [],
   "source": [
    "def find_largest_compatible_sets(arrays):\n",
    "    def compatible(motif_1, motif_2):\n",
    "        diff = motif_1 - motif_2\n",
    "        compatible= False\n",
    "        if np.all(diff==0):\n",
    "            compatible= True\n",
    "        else:\n",
    "            for i in range(len(diff)//2-1,0, -1):\n",
    "                if np.all(diff[:i+1]!= 0) and np.all(diff[-i-1:]!= 0) and np.all(diff[i+1:-i-1]==0):\n",
    "                        compatible== True\n",
    "                        break\n",
    "        return compatibility\n",
    "    \n",
    "    def is_compatible(array1, array2):\n",
    "        return compatible(array1, array2)\n",
    "    '''\n",
    "    def dfs(array, visited):\n",
    "        visited.add(array)\n",
    "        for neighbor in graph[array]:\n",
    "            if neighbor not in visited:\n",
    "                dfs(neighbor, visited)\n",
    "    '''\n",
    "    graph = {array: set() for array in arrays}\n",
    "    for i, array1 in enumerate(arrays):\n",
    "        for array2 in arrays[i + 1:]:\n",
    "            if is_compatible(array1, array2):\n",
    "                graph[array1].add(array2)\n",
    "                graph[array2].add(array1)\n",
    "    '''\n",
    "    largest_sets = set()\n",
    "    visited = set()\n",
    "    for array in arrays:\n",
    "        if array not in visited:\n",
    "            current_set = set()\n",
    "            dfs(array, current_set)\n",
    "            if len(current_set) > len(largest_sets):\n",
    "                largest_sets = current_set\n",
    "\n",
    "    return largest_sets\n",
    "    \n",
    "'''\n",
    "    return graph\n",
    "# Example usage:\n",
    "\n",
    "\n",
    "\n"
   ]
  },
  {
   "cell_type": "code",
   "execution_count": 10,
   "metadata": {},
   "outputs": [],
   "source": [
    "def from_motifs_to_DB(motifs= None, lst= None):\n",
    "    n_lst = len(lst)\n",
    "    m_mtf = len(motif[0])\n",
    "    db_string = '.'*n_lst\n",
    "    for motif in motifs: \n",
    "        for i in range(m_mtf//2):\n",
    "            db_string[motif[i]] = '('\n",
    "        for i in range(m_mtf//2, m_mtf):\n",
    "            db_string[motif[i]] = ')'\n",
    "    return db_string\n"
   ]
  },
  {
   "cell_type": "code",
   "execution_count": 82,
   "metadata": {},
   "outputs": [
    {
     "name": "stderr",
     "output_type": "stream",
     "text": [
      "/local/hdd/climaco/anaconda3/envs/aptamer_graph/lib/python3.9/site-packages/forgi/visual/mplotlib.py:118: RuntimeWarning: invalid value encountered in divide\n",
      "  norm_vec/=ftuv.magnitude(norm_vec)\n"
     ]
    },
    {
     "data": {
      "image/png": "[encoded data removed]",
      "text/plain": [
       "<Figure size 500x500 with 1 Axes>"
      ]
     },
     "metadata": {},
     "output_type": "display_data"
    }
   ],
   "source": [
    "## Get plots\n",
    "import numpy as np\n",
    "import matplotlib.pyplot as plt\n",
    "import forgi.visual.mplotlib as fvm\n",
    "import forgi\n",
    "from forgi.graph.bulge_graph import BulgeGraph\n",
    "\n",
    "# Example sequence and structure\n",
    "sequence = \"CGACTGGTAGGCAACAGGGGAAGGGAGTTCTGCGTACGTGGGTCG\"\n",
    "structure = \"(((((.((.(((.((((........)).)).).)).)).)))))\"\n",
    "\n",
    "# Convert sequence and structure to a BulgeGraph object\n",
    "plt.figure(figsize=(5,5))\n",
    "bg = BulgeGraph.from_dotbracket(structure,sequence)\n",
    "\n",
    "\n",
    "fvm.plot_rna(bg, text_kwargs={\"fontweight\":\"black\"}, lighten=0.7,backbone_kwargs={\"linewidth\":3})\n",
    "plt.show()\n",
    "# Plot using matplotlib\n",
    "\n",
    "  \n",
    "\n",
    "\n"
   ]
  },
  {
   "cell_type": "code",
   "execution_count": 23,
   "metadata": {},
   "outputs": [
    {
     "name": "stdout",
     "output_type": "stream",
     "text": [
      "0.05081987380981445\n"
     ]
    },
    {
     "data": {
      "text/plain": [
       "[(5, 16), (6, 15), (7, 14)]"
      ]
     },
     "execution_count": 23,
     "metadata": {},
     "output_type": "execute_result"
    }
   ],
   "source": [
    "import time\n",
    "start = time.time()\n",
    "strn15  = \"CGACGGAGGTGGTGTCTTGGACAGTGGTATTCGCAGTTGCGTCG\"\n",
    "\n",
    "arr = convert_string_to_list(strn15)\n",
    "#Bg = build_BG_matrix(len(arr), arr)\n",
    "C = init_candidate_dict(4, len(arr))\n",
    "#C2 = stats_filter(6, arr, C)\n",
    "#C3 = topology_filter(6, arr, C2)\n",
    "C4, motifs, motifs_vect= apt_filter(4, arr, C)\n",
    "print(time.time() - start)\n",
    "list(set(motifs[0] + motifs[1]))"
   ]
  },
  {
   "cell_type": "code",
   "execution_count": 62,
   "metadata": {},
   "outputs": [
    {
     "name": "stdout",
     "output_type": "stream",
     "text": [
      "Any pair within threshold: True\n"
     ]
    }
   ],
   "source": [
    "#check if a nucleotide is mapped in two different nucleotides,\n",
    "def any_pair_within_threshold(tuple_list):\n",
    "    \n",
    "    tuples_array = np.array(list(set(tuple_list)))\n",
    "    if len(tuples_array == len(tuple_list) ):\n",
    "        return True\n",
    "    else:\n",
    "        pairwise_differences = tuples_array[:, None] - tuples_array\n",
    "        flag = True\n",
    "        for i in range(len(tuple_list)):\n",
    "            hold = np.delete(pairwise_differences[i], i, axis=0)\n",
    "            if np.min(hold) == 0:\n",
    "                flag= False\n",
    "                break\n",
    "    \n",
    "    return flag\n",
    "\n",
    "# Example usage:\n",
    "\n",
    "threshold = 0\n",
    "result = any_pair_within_threshold(motifs[0] + motifs[1])\n",
    "print(\"Any pair within threshold:\", result)"
   ]
  },
  {
   "cell_type": "code",
   "execution_count": 108,
   "metadata": {},
   "outputs": [
    {
     "name": "stdout",
     "output_type": "stream",
     "text": [
      "[[0 0 0 ... 0 0 1]\n",
      " [0 0 0 ... 0 1 0]\n",
      " [0 0 0 ... 1 0 0]\n",
      " ...\n",
      " [0 0 1 ... 0 0 0]\n",
      " [0 1 0 ... 0 0 0]\n",
      " [1 0 0 ... 0 0 0]]\n"
     ]
    }
   ],
   "source": [
    "import time\n",
    "\n",
    "strn15  = \"CGACGGAGGTGGTGTCTTGGACAGTGGTATTCGCAGTTGCGTCG\"\n",
    "\n",
    "arr = convert_string_to_list(strn15)\n",
    "Bg = build_BG_matrix(len(arr), arr)\n",
    "print(Bg)"
   ]
  },
  {
   "cell_type": "code",
   "execution_count": 67,
   "metadata": {},
   "outputs": [
    {
     "name": "stdout",
     "output_type": "stream",
     "text": [
      "0.001081705093383789\n",
      "0.0009171962738037109\n"
     ]
    }
   ],
   "source": [
    "import time\n",
    "start = time.time()\n",
    "M1 = build_BG_matrix(len(arr), arr)\n",
    "print(time.time() - start)\n",
    "start = time.time()\n",
    "M2 = build_BG_matrix2(len(arr), arr)\n",
    "print(time.time() - start)"
   ]
  },
  {
   "cell_type": "code",
   "execution_count": 19,
   "metadata": {},
   "outputs": [
    {
     "data": {
      "text/plain": [
       "{'0': [1, 3], '1': [0, 2], '2': [1, 3], '3': [0, 2]}"
      ]
     },
     "execution_count": 19,
     "metadata": {},
     "output_type": "execute_result"
    }
   ],
   "source": [
    "neig2"
   ]
  },
  {
   "cell_type": "code",
   "execution_count": 18,
   "metadata": {},
   "outputs": [
    {
     "name": "stdout",
     "output_type": "stream",
     "text": [
      "{'0': [1, 5], '1': [0, 2, 4], '2': [1, 3], '3': [2, 4], '4': [3, 5, 1], '5': [0, 4]}\n",
      "0.00011086463928222656\n",
      "9.655952453613281e-05\n"
     ]
    }
   ],
   "source": [
    "neig = generate_motif(6)\n",
    "print(neig)\n",
    "import time\n",
    "start = time.time()\n",
    "neig = generate_motif(4)\n",
    "print(time.time() - start)\n",
    "start = time.time()\n",
    "neig2 = generate_motif2(4)\n",
    "print(time.time() - start)"
   ]
  },
  {
   "cell_type": "code",
   "execution_count": null,
   "metadata": {},
   "outputs": [],
   "source": [
    "''' seems slower\n",
    "def build_BG_matrix(n, lst):\n",
    "    BG = np.zeros((n, n), dtype=int)\n",
    "    \n",
    "    # Create indices\n",
    "    i, j = np.indices((n, n))\n",
    "    \n",
    "    # Condition 1: i or j <= 4 and i + j = n + 1\n",
    "    condition1 = np.logical_and(np.logical_or(i <= 4, j <= 4), i + j == n + 1)\n",
    "    # Condition 2: i, j > 4 and lst[i] + lst[j] = 3 and |i - j| > 5\n",
    "    tile_lst =  np.tile(lst, (n, 1))\n",
    "    condition2 = np.logical_and(np.logical_and(i > 4, j > 4), np.logical_and(tile_lst + tile_lst.T == 3, np.abs(i - j) > 5))\n",
    "    # Fill BG matrix\n",
    "    BG[condition1 | condition2] = 1\n",
    "    \n",
    "    return BG\n",
    "'''   "
   ]
  },
  {
   "cell_type": "code",
   "execution_count": null,
   "metadata": {},
   "outputs": [],
   "source": []
  }
 ],
 "metadata": {
  "kernelspec": {
   "display_name": "base",
   "language": "python",
   "name": "python3"
  },
  "language_info": {
   "codemirror_mode": {
    "name": "ipython",
    "version": 3
   },
   "file_extension": ".py",
   "mimetype": "text/x-python",
   "name": "python",
   "nbconvert_exporter": "python",
   "pygments_lexer": "ipython3",
   "version": "3.9.18"
  }
 },
 "nbformat": 4,
 "nbformat_minor": 2
}
